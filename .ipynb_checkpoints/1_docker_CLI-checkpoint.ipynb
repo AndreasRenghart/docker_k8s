{
 "cells": [
  {
   "cell_type": "markdown",
   "metadata": {},
   "source": [
    "# Docker CLI"
   ]
  },
  {
   "cell_type": "markdown",
   "metadata": {},
   "source": [
    "**Run Docker Image form Docker Hub**"
   ]
  },
  {
   "cell_type": "code",
   "execution_count": 29,
   "metadata": {},
   "outputs": [
    {
     "name": "stdout",
     "output_type": "stream",
     "text": [
      "\n",
      "Hello from Docker!\n",
      "This message shows that your installation appears to be working correctly.\n",
      "\n",
      "To generate this message, Docker took the following steps:\n",
      " 1. The Docker client contacted the Docker daemon.\n",
      " 2. The Docker daemon pulled the \"hello-world\" image from the Docker Hub.\n",
      "    (amd64)\n",
      " 3. The Docker daemon created a new container from that image which runs the\n",
      "    executable that produces the output you are currently reading.\n",
      " 4. The Docker daemon streamed that output to the Docker client, which sent it\n",
      "    to your terminal.\n",
      "\n",
      "To try something more ambitious, you can run an Ubuntu container with:\n",
      " $ docker run -it ubuntu bash\n",
      "\n",
      "Share images, automate workflows, and more with a free Docker ID:\n",
      " https://hub.docker.com/\n",
      "\n",
      "For more examples and ideas, visit:\n",
      " https://docs.docker.com/get-started/\n",
      "\n"
     ]
    }
   ],
   "source": [
    "%%bash\n",
    "docker run hello-world"
   ]
  },
  {
   "cell_type": "markdown",
   "metadata": {},
   "source": [
    "**Run Ubuntu container and get interactive command line access**"
   ]
  },
  {
   "cell_type": "markdown",
   "metadata": {},
   "source": [
    "**Run this in terminal**:\n",
    "docker run -it ubuntu bash"
   ]
  },
  {
   "cell_type": "markdown",
   "metadata": {},
   "source": [
    "You can run all commands that are known to the specific container:"
   ]
  },
  {
   "cell_type": "code",
   "execution_count": 30,
   "metadata": {},
   "outputs": [
    {
     "name": "stdout",
     "output_type": "stream",
     "text": [
      "bin\n",
      "boot\n",
      "dev\n",
      "etc\n",
      "home\n",
      "lib\n",
      "lib32\n",
      "lib64\n",
      "libx32\n",
      "media\n",
      "mnt\n",
      "opt\n",
      "proc\n",
      "root\n",
      "run\n",
      "sbin\n",
      "srv\n",
      "sys\n",
      "tmp\n",
      "usr\n",
      "var\n"
     ]
    }
   ],
   "source": [
    "%%bash\n",
    "docker run ubuntu ls"
   ]
  },
  {
   "cell_type": "markdown",
   "metadata": {},
   "source": [
    "**List all running containers**"
   ]
  },
  {
   "cell_type": "code",
   "execution_count": 31,
   "metadata": {},
   "outputs": [
    {
     "name": "stdout",
     "output_type": "stream",
     "text": [
      "CONTAINER ID        IMAGE               COMMAND             CREATED             STATUS              PORTS               NAMES\n"
     ]
    }
   ],
   "source": [
    "%%bash \n",
    "docker ps"
   ]
  },
  {
   "cell_type": "markdown",
   "metadata": {},
   "source": [
    "All container stopped already -> go to terminal and get inside ubuntu console..."
   ]
  },
  {
   "cell_type": "code",
   "execution_count": 33,
   "metadata": {},
   "outputs": [
    {
     "name": "stdout",
     "output_type": "stream",
     "text": [
      "CONTAINER ID        IMAGE               COMMAND             CREATED             STATUS              PORTS               NAMES\n",
      "c679cd0d5e56        ubuntu              \"bash\"              5 seconds ago       Up 3 seconds                            clever_vaughan\n"
     ]
    }
   ],
   "source": [
    "%%bash \n",
    "docker ps"
   ]
  },
  {
   "cell_type": "markdown",
   "metadata": {},
   "source": [
    "Now ubuntu container running with command \"bash\""
   ]
  },
  {
   "cell_type": "markdown",
   "metadata": {},
   "source": [
    "**List all containers that have been created on the machine**"
   ]
  },
  {
   "cell_type": "code",
   "execution_count": 34,
   "metadata": {},
   "outputs": [
    {
     "name": "stdout",
     "output_type": "stream",
     "text": [
      "CONTAINER ID        IMAGE               COMMAND             CREATED             STATUS                      PORTS               NAMES\n",
      "c679cd0d5e56        ubuntu              \"bash\"              9 seconds ago       Up 7 seconds                                    clever_vaughan\n",
      "27e7c916343d        ubuntu              \"ls\"                28 seconds ago      Exited (0) 26 seconds ago                       optimistic_rubin\n",
      "c9c04ca08887        hello-world         \"/hello\"            32 seconds ago      Exited (0) 30 seconds ago                       laughing_payne\n"
     ]
    }
   ],
   "source": [
    "%%bash\n",
    "docker ps --all"
   ]
  },
  {
   "cell_type": "markdown",
   "metadata": {},
   "source": [
    "**Restart a stopped container: use docker start with container ID (-a: show output)**"
   ]
  },
  {
   "cell_type": "code",
   "execution_count": 35,
   "metadata": {},
   "outputs": [
    {
     "name": "stdout",
     "output_type": "stream",
     "text": [
      "\n",
      "Hello from Docker!\n",
      "This message shows that your installation appears to be working correctly.\n",
      "\n",
      "To generate this message, Docker took the following steps:\n",
      " 1. The Docker client contacted the Docker daemon.\n",
      " 2. The Docker daemon pulled the \"hello-world\" image from the Docker Hub.\n",
      "    (amd64)\n",
      " 3. The Docker daemon created a new container from that image which runs the\n",
      "    executable that produces the output you are currently reading.\n",
      " 4. The Docker daemon streamed that output to the Docker client, which sent it\n",
      "    to your terminal.\n",
      "\n",
      "To try something more ambitious, you can run an Ubuntu container with:\n",
      " $ docker run -it ubuntu bash\n",
      "\n",
      "Share images, automate workflows, and more with a free Docker ID:\n",
      " https://hub.docker.com/\n",
      "\n",
      "For more examples and ideas, visit:\n",
      " https://docs.docker.com/get-started/\n",
      "\n"
     ]
    }
   ],
   "source": [
    "%%bash\n",
    "docker start -a c9c04ca08887"
   ]
  },
  {
   "cell_type": "markdown",
   "metadata": {},
   "source": [
    "**Stopping container**"
   ]
  },
  {
   "cell_type": "code",
   "execution_count": 36,
   "metadata": {},
   "outputs": [
    {
     "name": "stdout",
     "output_type": "stream",
     "text": [
      "CONTAINER ID        IMAGE               COMMAND             CREATED              STATUS              PORTS               NAMES\n",
      "c679cd0d5e56        ubuntu              \"bash\"              About a minute ago   Up About a minute                       clever_vaughan\n"
     ]
    }
   ],
   "source": [
    "%%bash\n",
    "docker ps"
   ]
  },
  {
   "cell_type": "code",
   "execution_count": 37,
   "metadata": {},
   "outputs": [
    {
     "name": "stdout",
     "output_type": "stream",
     "text": [
      "c679cd0d5e56\n"
     ]
    }
   ],
   "source": [
    "%%bash\n",
    "docker stop c679cd0d5e56"
   ]
  },
  {
   "cell_type": "code",
   "execution_count": 38,
   "metadata": {},
   "outputs": [
    {
     "name": "stdout",
     "output_type": "stream",
     "text": [
      "CONTAINER ID        IMAGE               COMMAND             CREATED             STATUS              PORTS               NAMES\n"
     ]
    }
   ],
   "source": [
    "%%bash\n",
    "docker ps"
   ]
  },
  {
   "cell_type": "markdown",
   "metadata": {},
   "source": [
    "**Get logs from (stopped) container**"
   ]
  },
  {
   "cell_type": "code",
   "execution_count": 39,
   "metadata": {},
   "outputs": [
    {
     "name": "stdout",
     "output_type": "stream",
     "text": [
      "\u001b[K\u001b]0;root@c679cd0d5e56: /\u0007root@c679cd0d5e56:/# exit\n"
     ]
    }
   ],
   "source": [
    "%%bash\n",
    "docker logs c679cd0d5e56"
   ]
  },
  {
   "cell_type": "markdown",
   "metadata": {},
   "source": [
    "**Delete all stopped containers**"
   ]
  },
  {
   "cell_type": "code",
   "execution_count": 27,
   "metadata": {},
   "outputs": [
    {
     "name": "stdout",
     "output_type": "stream",
     "text": [
      "WARNING! This will remove:\n",
      "  - all stopped containers\n",
      "  - all networks not used by at least one container\n",
      "  - all dangling images\n",
      "  - all dangling build cache\n",
      "\n",
      "Are you sure you want to continue? [y/N] "
     ]
    }
   ],
   "source": [
    "%%bash\n",
    "docker system prune"
   ]
  },
  {
   "cell_type": "code",
   "execution_count": 28,
   "metadata": {},
   "outputs": [
    {
     "name": "stdout",
     "output_type": "stream",
     "text": [
      "CONTAINER ID        IMAGE               COMMAND             CREATED             STATUS              PORTS               NAMES\n"
     ]
    }
   ],
   "source": [
    "%%bash\n",
    "docker ps --all"
   ]
  },
  {
   "cell_type": "markdown",
   "metadata": {},
   "source": [
    "**Execute Command in running container**"
   ]
  },
  {
   "cell_type": "markdown",
   "metadata": {},
   "source": [
    "First start redis container: Try this in terminal..."
   ]
  },
  {
   "cell_type": "markdown",
   "metadata": {},
   "source": [
    "**docker run redis**"
   ]
  },
  {
   "cell_type": "markdown",
   "metadata": {},
   "source": [
    "Check redis is running"
   ]
  },
  {
   "cell_type": "code",
   "execution_count": 1,
   "metadata": {},
   "outputs": [
    {
     "name": "stdout",
     "output_type": "stream",
     "text": [
      "CONTAINER ID        IMAGE               COMMAND                  CREATED             STATUS              PORTS               NAMES\n",
      "b3068e05b37c        redis               \"docker-entrypoint.s…\"   22 minutes ago      Up 22 minutes       6379/tcp            nervous_mayer\n"
     ]
    }
   ],
   "source": [
    "%%bash\n",
    "docker ps"
   ]
  },
  {
   "cell_type": "markdown",
   "metadata": {},
   "source": [
    "Connect to redis cli inside redis container: Try this in terminal..."
   ]
  },
  {
   "cell_type": "markdown",
   "metadata": {},
   "source": [
    "**docker exec -it b3068e05b37c redis-cli**"
   ]
  },
  {
   "cell_type": "code",
   "execution_count": 3,
   "metadata": {},
   "outputs": [
    {
     "name": "stdout",
     "output_type": "stream",
     "text": [
      "b3068e05b37c\n"
     ]
    }
   ],
   "source": [
    "%%bash\n",
    "docker stop b3068e05b37c"
   ]
  },
  {
   "cell_type": "markdown",
   "metadata": {},
   "source": [
    "**Docker Images**"
   ]
  },
  {
   "cell_type": "code",
   "execution_count": 8,
   "metadata": {},
   "outputs": [
    {
     "name": "stdout",
     "output_type": "stream",
     "text": [
      "REPOSITORY                           TAG                                              IMAGE ID            CREATED             SIZE\n",
      "busybox                              latest                                           c7c37e472d31        22 hours ago        1.22MB\n",
      "ubuntu                               latest                                           74435f89ab78        13 days ago         73.9MB\n",
      "redis                                latest                                           235592615444        2 weeks ago         104MB\n",
      "docker/desktop-storage-provisioner   v1.1                                             e704287ce753        3 months ago        41.8MB\n",
      "docker/desktop-storage-provisioner   v1.0                                             605a0f683b7b        3 months ago        33.1MB\n",
      "docker/desktop-vpnkit-controller     v1.0                                             79da37e5a3aa        4 months ago        36.6MB\n",
      "docker/desktop-kubernetes            kubernetes-v1.16.5-cni-v0.7.5-critools-v1.15.0   a86647f0b376        5 months ago        279MB\n",
      "k8s.gcr.io/kube-apiserver            v1.16.5                                          fc838b21afbb        5 months ago        159MB\n",
      "k8s.gcr.io/kube-proxy                v1.16.5                                          0ee1b8a3ebe0        5 months ago        82.7MB\n",
      "k8s.gcr.io/kube-controller-manager   v1.16.5                                          441835dd2301        5 months ago        151MB\n",
      "k8s.gcr.io/kube-scheduler            v1.16.5                                          b4d073a9efda        5 months ago        83.5MB\n",
      "hello-world                          latest                                           bf756fb1ae65        5 months ago        13.3kB\n",
      "docker/kube-compose-controller       v0.4.25-alpha1                                   129151cdf35f        8 months ago        35.6MB\n",
      "docker/kube-compose-api-server       v0.4.25-alpha1                                   989749268895        8 months ago        50.7MB\n",
      "docker/kube-compose-installer        v0.4.25-alpha1                                   2a71ac5a1359        8 months ago        42.3MB\n",
      "k8s.gcr.io/kube-controller-manager   v1.15.5                                          1399a72fa1a9        8 months ago        159MB\n",
      "k8s.gcr.io/kube-apiserver            v1.15.5                                          e534b1952a0d        8 months ago        207MB\n",
      "k8s.gcr.io/kube-proxy                v1.15.5                                          cbd7f21fec99        8 months ago        82.4MB\n",
      "k8s.gcr.io/kube-scheduler            v1.15.5                                          fab2dded59dd        8 months ago        81.1MB\n",
      "k8s.gcr.io/etcd                      3.3.15-0                                         b2756210eeab        10 months ago       247MB\n",
      "k8s.gcr.io/coredns                   1.6.2                                            bf261d157914        10 months ago       44.1MB\n",
      "docker/kube-compose-controller       v0.4.23                                          a8c3d87a58e7        13 months ago       35.3MB\n",
      "docker/kube-compose-api-server       v0.4.23                                          f3591b2cb223        13 months ago       49.9MB\n",
      "k8s.gcr.io/coredns                   1.3.1                                            eb516548c180        17 months ago       40.3MB\n",
      "k8s.gcr.io/etcd                      3.3.10                                           2c4adeb21b4f        19 months ago       258MB\n",
      "k8s.gcr.io/pause                     3.1                                              da86e6ba6ca1        2 years ago         742kB\n"
     ]
    }
   ],
   "source": [
    "%%bash\n",
    "docker images --all"
   ]
  },
  {
   "cell_type": "code",
   "execution_count": null,
   "metadata": {},
   "outputs": [],
   "source": []
  }
 ],
 "metadata": {
  "kernelspec": {
   "display_name": "Python 3",
   "language": "python",
   "name": "python3"
  },
  "language_info": {
   "codemirror_mode": {
    "name": "ipython",
    "version": 3
   },
   "file_extension": ".py",
   "mimetype": "text/x-python",
   "name": "python",
   "nbconvert_exporter": "python",
   "pygments_lexer": "ipython3",
   "version": "3.7.6"
  }
 },
 "nbformat": 4,
 "nbformat_minor": 4
}
