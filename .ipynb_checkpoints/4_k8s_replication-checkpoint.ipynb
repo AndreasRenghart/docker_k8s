{
 "cells": [
  {
   "cell_type": "markdown",
   "metadata": {},
   "source": [
    "# Kubernetes Replication"
   ]
  },
  {
   "cell_type": "markdown",
   "metadata": {},
   "source": [
    "You almost never create pods directly. Instead, you create other types of resources, such as Replication-Controllers or Deployments, which then create and manage the actual pods."
   ]
  },
  {
   "cell_type": "markdown",
   "metadata": {},
   "source": [
    "### 1. Replication Controllers (deprecated)"
   ]
  },
  {
   "cell_type": "markdown",
   "metadata": {},
   "source": [
    "If a pod disappears for any reason, such as in case of a node failure, the ReplicationController notices the missing pod and creates a replacement pod."
   ]
  },
  {
   "cell_type": "markdown",
   "metadata": {},
   "source": [
    "A ReplicationController constantly monitors the list of running pods and makes sure the actual number of pods of a “type” always matches the desired number. If too few such pods are running, it creates new replicas from a pod template. If too many such pods are running, it removes the excess replicas."
   ]
  },
  {
   "cell_type": "markdown",
   "metadata": {},
   "source": [
    "**Create replication controller**: yaml file: rc_node.yaml"
   ]
  },
  {
   "cell_type": "markdown",
   "metadata": {},
   "source": [
    "Note: pod template in rc yaml file need to have labels, so that the rc knows which pods to track."
   ]
  },
  {
   "cell_type": "code",
   "execution_count": 2,
   "metadata": {},
   "outputs": [
    {
     "name": "stdout",
     "output_type": "stream",
     "text": [
      "replicationcontroller/nodeapp-rc created\n"
     ]
    }
   ],
   "source": [
    "%%bash\n",
    "kubectl apply -f rc_node.yaml"
   ]
  },
  {
   "cell_type": "code",
   "execution_count": 3,
   "metadata": {},
   "outputs": [
    {
     "name": "stdout",
     "output_type": "stream",
     "text": [
      "NAME               READY   STATUS    RESTARTS   AGE\n",
      "nodeapp-rc-j7vs8   1/1     Running   0          13s\n",
      "nodeapp-rc-jznm2   1/1     Running   0          13s\n"
     ]
    }
   ],
   "source": [
    "%%bash\n",
    "kubectl get pods"
   ]
  },
  {
   "cell_type": "markdown",
   "metadata": {},
   "source": [
    "**-> Two pods running as specified in the yaml file**"
   ]
  },
  {
   "cell_type": "code",
   "execution_count": 4,
   "metadata": {},
   "outputs": [
    {
     "name": "stdout",
     "output_type": "stream",
     "text": [
      "NAME         DESIRED   CURRENT   READY   AGE\n",
      "nodeapp-rc   2         2         2       3m53s\n"
     ]
    }
   ],
   "source": [
    "%%bash\n",
    "kubectl get rc"
   ]
  },
  {
   "cell_type": "markdown",
   "metadata": {},
   "source": [
    "Note: Changing a ReplicationController’s pod template only affects pods created afterward and has no effect on existing pods"
   ]
  },
  {
   "cell_type": "markdown",
   "metadata": {},
   "source": [
    "Note: Which pods are controlled by an RC is defined via labels. If you remove the respective labels from a pod, its no longer controlled..."
   ]
  },
  {
   "cell_type": "markdown",
   "metadata": {},
   "source": [
    "**Delete RC**"
   ]
  },
  {
   "cell_type": "code",
   "execution_count": 5,
   "metadata": {},
   "outputs": [
    {
     "name": "stdout",
     "output_type": "stream",
     "text": [
      "replicationcontroller \"nodeapp-rc\" deleted\n"
     ]
    }
   ],
   "source": [
    "%%bash\n",
    "kubectl delete rc nodeapp-rc"
   ]
  },
  {
   "cell_type": "code",
   "execution_count": 7,
   "metadata": {},
   "outputs": [
    {
     "name": "stderr",
     "output_type": "stream",
     "text": [
      "No resources found in default namespace.\n"
     ]
    }
   ],
   "source": [
    "%%bash\n",
    "kubectl get pods"
   ]
  },
  {
   "cell_type": "markdown",
   "metadata": {},
   "source": [
    "### 2. Replica Sets"
   ]
  },
  {
   "cell_type": "markdown",
   "metadata": {},
   "source": [
    "**Replica Sets are the new version of Replication Controllers**"
   ]
  },
  {
   "cell_type": "markdown",
   "metadata": {},
   "source": [
    "Whereas a ReplicationController’s label selector only allows matching pods that include a certain label, a ReplicaSet’s selector also allows matching pods that lack a certain label or pods that include a certain label key, regardless of its value."
   ]
  },
  {
   "cell_type": "markdown",
   "metadata": {},
   "source": [
    "**Create ReplicaSet from file:** rs_node.yaml (same as with rc with simple label selector \"matchLabels\")"
   ]
  },
  {
   "cell_type": "code",
   "execution_count": 8,
   "metadata": {},
   "outputs": [
    {
     "name": "stdout",
     "output_type": "stream",
     "text": [
      "replicaset.apps/nodeapp-rs created\n"
     ]
    }
   ],
   "source": [
    "%%bash\n",
    "kubectl apply -f rs_node.yaml"
   ]
  },
  {
   "cell_type": "code",
   "execution_count": 9,
   "metadata": {},
   "outputs": [
    {
     "name": "stdout",
     "output_type": "stream",
     "text": [
      "NAME               READY   STATUS    RESTARTS   AGE\n",
      "nodeapp-rs-mw4lm   1/1     Running   0          11s\n",
      "nodeapp-rs-x2g47   1/1     Running   0          11s\n"
     ]
    }
   ],
   "source": [
    "%%bash\n",
    "kubectl get pods"
   ]
  },
  {
   "cell_type": "code",
   "execution_count": 10,
   "metadata": {},
   "outputs": [
    {
     "name": "stdout",
     "output_type": "stream",
     "text": [
      "replicaset.apps \"nodeapp-rs\" deleted\n"
     ]
    }
   ],
   "source": [
    "%%bash\n",
    "kubectl delete rs nodeapp-rs"
   ]
  },
  {
   "cell_type": "markdown",
   "metadata": {},
   "source": [
    "**Note**: You can add more complex label selectors in ReplicaSets"
   ]
  },
  {
   "cell_type": "markdown",
   "metadata": {},
   "source": [
    "### 3. Daemon Sets"
   ]
  },
  {
   "cell_type": "markdown",
   "metadata": {},
   "source": [
    "With Daemon Sets you can insure that one instance of a pod is running on every node. They are used for infrastructure services like log collection."
   ]
  },
  {
   "cell_type": "markdown",
   "metadata": {},
   "source": [
    "In DaemonSets no replica counts are specified, otherwise they are created like Replica Sets"
   ]
  },
  {
   "cell_type": "markdown",
   "metadata": {},
   "source": [
    "### 4. Jobs"
   ]
  },
  {
   "cell_type": "markdown",
   "metadata": {},
   "source": [
    "ReplicationControllers, ReplicaSets, and DaemonSets run continuous tasks that are never considered completed. If such pods exit, they are automatically restarted. Jobs on the other hand should not restart after completion."
   ]
  },
  {
   "cell_type": "markdown",
   "metadata": {},
   "source": [
    "**Simulated Python Batch Job**: simple-batch-job that completes in 10 sec and exits with error in 1/10 cases by random -> Create image and upload to registry"
   ]
  },
  {
   "cell_type": "code",
   "execution_count": 12,
   "metadata": {},
   "outputs": [
    {
     "name": "stdout",
     "output_type": "stream",
     "text": [
      "Sending build context to Docker daemon  3.072kB\n",
      "Step 1/4 : FROM python:3\n",
      "3: Pulling from library/python\n",
      "e9afc4f90ab0: Pulling fs layer\n",
      "989e6b19a265: Pulling fs layer\n",
      "af14b6c2f878: Pulling fs layer\n",
      "5573c4b30949: Pulling fs layer\n",
      "11a88e764313: Pulling fs layer\n",
      "ee776f0e36af: Pulling fs layer\n",
      "513c90a1afc3: Pulling fs layer\n",
      "df9b9e95bdb9: Pulling fs layer\n",
      "86c9edb54464: Pulling fs layer\n",
      "11a88e764313: Waiting\n",
      "ee776f0e36af: Waiting\n",
      "513c90a1afc3: Waiting\n",
      "df9b9e95bdb9: Waiting\n",
      "86c9edb54464: Waiting\n",
      "5573c4b30949: Waiting\n",
      "af14b6c2f878: Download complete\n",
      "989e6b19a265: Verifying Checksum\n",
      "989e6b19a265: Download complete\n",
      "e9afc4f90ab0: Verifying Checksum\n",
      "e9afc4f90ab0: Download complete\n",
      "ee776f0e36af: Verifying Checksum\n",
      "ee776f0e36af: Download complete\n",
      "e9afc4f90ab0: Pull complete\n",
      "989e6b19a265: Pull complete\n",
      "af14b6c2f878: Pull complete\n",
      "513c90a1afc3: Verifying Checksum\n",
      "513c90a1afc3: Download complete\n",
      "df9b9e95bdb9: Verifying Checksum\n",
      "df9b9e95bdb9: Download complete\n",
      "86c9edb54464: Verifying Checksum\n",
      "86c9edb54464: Download complete\n",
      "5573c4b30949: Verifying Checksum\n",
      "5573c4b30949: Download complete\n",
      "5573c4b30949: Pull complete\n",
      "11a88e764313: Verifying Checksum\n",
      "11a88e764313: Download complete\n",
      "11a88e764313: Pull complete\n",
      "ee776f0e36af: Pull complete\n",
      "513c90a1afc3: Pull complete\n",
      "df9b9e95bdb9: Pull complete\n",
      "86c9edb54464: Pull complete\n",
      "Digest: sha256:dd6cd8191ccbced2a6af5d0ddb51e6057c1444df14e14bcfd5c7b3ef78738050\n",
      "Status: Downloaded newer image for python:3\n",
      " ---> 7f5b6ccd03e9\n",
      "Step 2/4 : WORKDIR /usr/app\n",
      " ---> Running in 7d6b8d8f5d3e\n",
      "Removing intermediate container 7d6b8d8f5d3e\n",
      " ---> 2a2af8c30a89\n",
      "Step 3/4 : COPY ./ ./\n",
      " ---> 58f30a7bdc24\n",
      "Step 4/4 : CMD python main.py\n",
      " ---> Running in f087b3488dcc\n",
      "Removing intermediate container f087b3488dcc\n",
      " ---> f09ea7789a54\n",
      "Successfully built f09ea7789a54\n",
      "Successfully tagged ardconsulting/test:py-batch\n"
     ]
    }
   ],
   "source": [
    "%%bash\n",
    "docker build -t ardconsulting/test:py-batch simple-batch-job"
   ]
  },
  {
   "cell_type": "code",
   "execution_count": 13,
   "metadata": {},
   "outputs": [
    {
     "name": "stdout",
     "output_type": "stream",
     "text": [
      "The push refers to repository [docker.io/ardconsulting/test]\n",
      "88f21c9b0327: Preparing\n",
      "001536999667: Preparing\n",
      "ccbefb30278f: Preparing\n",
      "7a8a38bf5538: Preparing\n",
      "0d77d4546954: Preparing\n",
      "98d95bdfa037: Preparing\n",
      "da9418a2e1b1: Preparing\n",
      "2e5b4ca91984: Preparing\n",
      "527ade4639e0: Preparing\n",
      "c2c789d2d3c5: Preparing\n",
      "8803ef42039d: Preparing\n",
      "da9418a2e1b1: Waiting\n",
      "2e5b4ca91984: Waiting\n",
      "527ade4639e0: Waiting\n",
      "c2c789d2d3c5: Waiting\n",
      "8803ef42039d: Waiting\n",
      "98d95bdfa037: Waiting\n",
      "0d77d4546954: Mounted from library/python\n",
      "ccbefb30278f: Mounted from library/python\n",
      "7a8a38bf5538: Mounted from library/python\n",
      "001536999667: Pushed\n",
      "88f21c9b0327: Pushed\n",
      "da9418a2e1b1: Mounted from library/python\n",
      "98d95bdfa037: Mounted from library/python\n",
      "2e5b4ca91984: Mounted from library/python\n",
      "c2c789d2d3c5: Mounted from library/python\n",
      "8803ef42039d: Mounted from library/python\n",
      "527ade4639e0: Pushed\n",
      "py-batch: digest: sha256:1a4155785be852233c30cdbcd603dc52752d0cdbd9377e2cac68cf3147ee5dae size: 2631\n"
     ]
    }
   ],
   "source": [
    "%%bash\n",
    "docker push ardconsulting/test:py-batch"
   ]
  },
  {
   "cell_type": "markdown",
   "metadata": {},
   "source": [
    "**yaml File for batch job**: simple_job.yaml"
   ]
  },
  {
   "cell_type": "code",
   "execution_count": 14,
   "metadata": {},
   "outputs": [
    {
     "name": "stdout",
     "output_type": "stream",
     "text": [
      "job.batch/batch-job created\n"
     ]
    }
   ],
   "source": [
    "%%bash\n",
    "kubectl apply -f simple_job.yaml"
   ]
  },
  {
   "cell_type": "code",
   "execution_count": 15,
   "metadata": {},
   "outputs": [
    {
     "name": "stdout",
     "output_type": "stream",
     "text": [
      "NAME        COMPLETIONS   DURATION   AGE\n",
      "batch-job   1/1           8s         57s\n"
     ]
    }
   ],
   "source": [
    "%%bash\n",
    "kubectl get jobs"
   ]
  },
  {
   "cell_type": "code",
   "execution_count": 23,
   "metadata": {},
   "outputs": [
    {
     "name": "stdout",
     "output_type": "stream",
     "text": [
      "NAME              READY   STATUS      RESTARTS   AGE\n",
      "batch-job-nv5xm   0/1     Completed   0          4m27s\n"
     ]
    }
   ],
   "source": [
    "%%bash\n",
    "kubectl get pods"
   ]
  },
  {
   "cell_type": "markdown",
   "metadata": {},
   "source": [
    "Show logs:"
   ]
  },
  {
   "cell_type": "code",
   "execution_count": 24,
   "metadata": {},
   "outputs": [
    {
     "name": "stdout",
     "output_type": "stream",
     "text": [
      "Batch Job started\n",
      "Batch Job completed successfully\n"
     ]
    }
   ],
   "source": [
    "%%bash\n",
    "kubectl logs batch-job-nv5xm"
   ]
  },
  {
   "cell_type": "code",
   "execution_count": 25,
   "metadata": {},
   "outputs": [
    {
     "name": "stdout",
     "output_type": "stream",
     "text": [
      "job.batch \"batch-job\" deleted\n"
     ]
    }
   ],
   "source": [
    "%%bash\n",
    "kubectl delete job batch-job"
   ]
  },
  {
   "cell_type": "markdown",
   "metadata": {},
   "source": [
    "### 5. CronJobs"
   ]
  },
  {
   "cell_type": "markdown",
   "metadata": {},
   "source": [
    "**Run job every minute**: simple_cronjob.yaml"
   ]
  },
  {
   "cell_type": "code",
   "execution_count": 28,
   "metadata": {},
   "outputs": [
    {
     "name": "stdout",
     "output_type": "stream",
     "text": [
      "cronjob.batch/batch-cronjob created\n"
     ]
    }
   ],
   "source": [
    "%%bash\n",
    "kubectl apply -f simple_cronjob.yaml"
   ]
  },
  {
   "cell_type": "code",
   "execution_count": 50,
   "metadata": {},
   "outputs": [
    {
     "name": "stdout",
     "output_type": "stream",
     "text": [
      "NAME            SCHEDULE    SUSPEND   ACTIVE   LAST SCHEDULE   AGE\n",
      "batch-cronjob   * * * * *   False     0        39s             4m23s\n"
     ]
    }
   ],
   "source": [
    "%%bash\n",
    "kubectl get cronjobs"
   ]
  },
  {
   "cell_type": "code",
   "execution_count": 51,
   "metadata": {},
   "outputs": [
    {
     "name": "stdout",
     "output_type": "stream",
     "text": [
      "NAME                             READY   STATUS      RESTARTS   AGE\n",
      "batch-cronjob-1593796620-bpqms   0/1     Completed   0          2m33s\n",
      "batch-cronjob-1593796680-8qmm9   0/1     Completed   0          93s\n",
      "batch-cronjob-1593796740-q44gr   0/1     Completed   0          32s\n"
     ]
    }
   ],
   "source": [
    "%%bash\n",
    "kubectl get pods"
   ]
  },
  {
   "cell_type": "code",
   "execution_count": 52,
   "metadata": {},
   "outputs": [
    {
     "name": "stdout",
     "output_type": "stream",
     "text": [
      "Batch Job started\n",
      "Batch Job completed successfully\n"
     ]
    }
   ],
   "source": [
    "%%bash\n",
    "kubectl logs batch-cronjob-1593796740-q44gr"
   ]
  },
  {
   "cell_type": "code",
   "execution_count": 53,
   "metadata": {},
   "outputs": [
    {
     "name": "stdout",
     "output_type": "stream",
     "text": [
      "cronjob.batch \"batch-cronjob\" deleted\n"
     ]
    }
   ],
   "source": [
    "%%bash\n",
    "kubectl delete cronjob batch-cronjob"
   ]
  },
  {
   "cell_type": "code",
   "execution_count": null,
   "metadata": {},
   "outputs": [],
   "source": []
  }
 ],
 "metadata": {
  "kernelspec": {
   "display_name": "Python 3",
   "language": "python",
   "name": "python3"
  },
  "language_info": {
   "codemirror_mode": {
    "name": "ipython",
    "version": 3
   },
   "file_extension": ".py",
   "mimetype": "text/x-python",
   "name": "python",
   "nbconvert_exporter": "python",
   "pygments_lexer": "ipython3",
   "version": "3.7.6"
  }
 },
 "nbformat": 4,
 "nbformat_minor": 4
}
