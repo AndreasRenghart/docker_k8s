{
 "cells": [
  {
   "cell_type": "markdown",
   "metadata": {},
   "source": [
    "# Kubernetes ConfigMaps and Secrets"
   ]
  },
  {
   "cell_type": "markdown",
   "metadata": {},
   "source": [
    "Start by preparing a job that just prints env variables..."
   ]
  },
  {
   "cell_type": "code",
   "execution_count": 58,
   "metadata": {},
   "outputs": [
    {
     "name": "stdout",
     "output_type": "stream",
     "text": [
      "Sending build context to Docker daemon  3.072kB\n",
      "Step 1/5 : FROM python:3\n",
      " ---> 7f5b6ccd03e9\n",
      "Step 2/5 : RUN pip install requests\n",
      " ---> Using cache\n",
      " ---> ee0941a9f06c\n",
      "Step 3/5 : WORKDIR /usr/app\n",
      " ---> Using cache\n",
      " ---> ce19f15bb6af\n",
      "Step 4/5 : COPY ./ ./\n",
      " ---> Using cache\n",
      " ---> 18f8a7fefa68\n",
      "Step 5/5 : CMD python main.py\n",
      " ---> Using cache\n",
      " ---> d54b24d7ba3e\n",
      "Successfully built d54b24d7ba3e\n",
      "Successfully tagged ardconsulting/test:jobenv\n"
     ]
    }
   ],
   "source": [
    "%%bash\n",
    "docker build -t ardconsulting/test:jobenv batch-job-envvars"
   ]
  },
  {
   "cell_type": "code",
   "execution_count": 59,
   "metadata": {},
   "outputs": [
    {
     "name": "stdout",
     "output_type": "stream",
     "text": [
      "The push refers to repository [docker.io/ardconsulting/test]\n",
      "a91c8f09305c: Preparing\n",
      "55cc563f1ba5: Preparing\n",
      "241cc8c6acb3: Preparing\n",
      "ccbefb30278f: Preparing\n",
      "7a8a38bf5538: Preparing\n",
      "0d77d4546954: Preparing\n",
      "98d95bdfa037: Preparing\n",
      "da9418a2e1b1: Preparing\n",
      "2e5b4ca91984: Preparing\n",
      "527ade4639e0: Preparing\n",
      "c2c789d2d3c5: Preparing\n",
      "8803ef42039d: Preparing\n",
      "98d95bdfa037: Waiting\n",
      "da9418a2e1b1: Waiting\n",
      "2e5b4ca91984: Waiting\n",
      "527ade4639e0: Waiting\n",
      "c2c789d2d3c5: Waiting\n",
      "8803ef42039d: Waiting\n",
      "0d77d4546954: Waiting\n",
      "7a8a38bf5538: Layer already exists\n",
      "241cc8c6acb3: Layer already exists\n",
      "a91c8f09305c: Layer already exists\n",
      "55cc563f1ba5: Layer already exists\n",
      "ccbefb30278f: Layer already exists\n",
      "0d77d4546954: Layer already exists\n",
      "527ade4639e0: Layer already exists\n",
      "98d95bdfa037: Layer already exists\n",
      "da9418a2e1b1: Layer already exists\n",
      "2e5b4ca91984: Layer already exists\n",
      "c2c789d2d3c5: Layer already exists\n",
      "8803ef42039d: Layer already exists\n",
      "jobenv: digest: sha256:e6d7bb8888a78d2703479648f7e654d13ad4b1a09611022360d81f680a4b3d89 size: 2842\n"
     ]
    }
   ],
   "source": [
    "%%bash\n",
    "docker push ardconsulting/test:jobenv"
   ]
  },
  {
   "cell_type": "markdown",
   "metadata": {},
   "source": [
    "### 1. Pass Environment Variables into Containers"
   ]
  },
  {
   "cell_type": "markdown",
   "metadata": {},
   "source": [
    "Environment Variables are specified at container level: job_env.yaml"
   ]
  },
  {
   "cell_type": "code",
   "execution_count": 60,
   "metadata": {},
   "outputs": [
    {
     "name": "stdout",
     "output_type": "stream",
     "text": [
      "job.batch/batch-job-env created\n"
     ]
    }
   ],
   "source": [
    "%%bash\n",
    "kubectl apply -f job_env.yaml"
   ]
  },
  {
   "cell_type": "code",
   "execution_count": 61,
   "metadata": {},
   "outputs": [
    {
     "name": "stdout",
     "output_type": "stream",
     "text": [
      "NAME                     READY   STATUS                       RESTARTS   AGE\n",
      "batch-job-config-22t99   0/1     CreateContainerConfigError   0          80s\n",
      "batch-job-env-4vngd      0/1     ContainerCreating            0          1s\n"
     ]
    }
   ],
   "source": [
    "%%bash\n",
    "kubectl get pods"
   ]
  },
  {
   "cell_type": "code",
   "execution_count": 63,
   "metadata": {},
   "outputs": [
    {
     "name": "stdout",
     "output_type": "stream",
     "text": [
      "Batch Job started\n",
      "##############################\n",
      "Env Variables:\n",
      "KUBERNETES_PORT: tcp://10.96.0.1:443\n",
      "KUBERNETES_SERVICE_PORT: 443\n",
      "HOSTNAME: batch-job-env-4vngd\n",
      "PYTHON_PIP_VERSION: 20.1.1\n",
      "HOME: /root\n",
      "GPG_KEY: E3FF2839C048B25C084DEBE9B26995E310250568\n",
      "PYTHON_GET_PIP_URL: https://github.com/pypa/get-pip/raw/eff16c878c7fd6b688b9b4c4267695cf1a0bf01b/get-pip.py\n",
      "KUBERNETES_PORT_443_TCP_ADDR: 10.96.0.1\n",
      "PATH: /usr/local/bin:/usr/local/sbin:/usr/local/bin:/usr/sbin:/usr/bin:/sbin:/bin\n",
      "KUBERNETES_PORT_443_TCP_PORT: 443\n",
      "KUBERNETES_PORT_443_TCP_PROTO: tcp\n",
      "LANG: C.UTF-8\n",
      "EXAMPLEVAR: 30\n",
      "PYTHON_VERSION: 3.8.3\n",
      "KUBERNETES_SERVICE_PORT_HTTPS: 443\n",
      "KUBERNETES_PORT_443_TCP: tcp://10.96.0.1:443\n",
      "KUBERNETES_SERVICE_HOST: 10.96.0.1\n",
      "PWD: /usr/app\n",
      "PYTHON_GET_PIP_SHA256: b3153ec0cf7b7bbf9556932aa37e4981c35dc2a2c501d70d91d2795aa532be79\n",
      "##############################\n",
      "Batch Job completed successfully\n"
     ]
    }
   ],
   "source": [
    "%%bash\n",
    "kubectl logs batch-job-env-4vngd"
   ]
  },
  {
   "cell_type": "markdown",
   "metadata": {},
   "source": [
    "**-> EXAMPLEVAR environment variable injected**"
   ]
  },
  {
   "cell_type": "markdown",
   "metadata": {},
   "source": [
    "**Disadvantage of this approach:** Environment Variables hardcoded in Pod Description -> Need to define different pod definiton for different environments. Better to decouple config."
   ]
  },
  {
   "cell_type": "markdown",
   "metadata": {},
   "source": [
    "### 2. Decouple Config by ConfigMaps"
   ]
  },
  {
   "cell_type": "markdown",
   "metadata": {},
   "source": [
    "**First Option**: Define ConfigMap with \"create configmap\" and supply var as literal..."
   ]
  },
  {
   "cell_type": "code",
   "execution_count": 67,
   "metadata": {},
   "outputs": [
    {
     "name": "stdout",
     "output_type": "stream",
     "text": [
      "configmap/my-config created\n"
     ]
    }
   ],
   "source": [
    "%%bash\n",
    "kubectl create configmap my-config --from-literal=testvar=some_value"
   ]
  },
  {
   "cell_type": "markdown",
   "metadata": {},
   "source": [
    "Apply Config map: job_config.yaml..."
   ]
  },
  {
   "cell_type": "code",
   "execution_count": 68,
   "metadata": {},
   "outputs": [
    {
     "name": "stdout",
     "output_type": "stream",
     "text": [
      "job.batch/batch-job-config created\n"
     ]
    }
   ],
   "source": [
    "%%bash\n",
    "kubectl apply -f job_config.yaml"
   ]
  },
  {
   "cell_type": "code",
   "execution_count": 69,
   "metadata": {},
   "outputs": [
    {
     "name": "stdout",
     "output_type": "stream",
     "text": [
      "NAME                     READY   STATUS              RESTARTS   AGE\n",
      "batch-job-config-66jgh   0/1     ContainerCreating   0          1s\n"
     ]
    }
   ],
   "source": [
    "%%bash\n",
    "kubectl get pods"
   ]
  },
  {
   "cell_type": "code",
   "execution_count": 70,
   "metadata": {},
   "outputs": [
    {
     "name": "stdout",
     "output_type": "stream",
     "text": [
      "Batch Job started\n",
      "##############################\n",
      "Env Variables:\n",
      "KUBERNETES_SERVICE_PORT: 443\n",
      "KUBERNETES_PORT: tcp://10.96.0.1:443\n",
      "HOSTNAME: batch-job-config-66jgh\n",
      "PYTHON_PIP_VERSION: 20.1.1\n",
      "HOME: /root\n",
      "GPG_KEY: E3FF2839C048B25C084DEBE9B26995E310250568\n",
      "PYTHON_GET_PIP_URL: https://github.com/pypa/get-pip/raw/eff16c878c7fd6b688b9b4c4267695cf1a0bf01b/get-pip.py\n",
      "KUBERNETES_PORT_443_TCP_ADDR: 10.96.0.1\n",
      "PATH: /usr/local/bin:/usr/local/sbin:/usr/local/bin:/usr/sbin:/usr/bin:/sbin:/bin\n",
      "KUBERNETES_PORT_443_TCP_PORT: 443\n",
      "KUBERNETES_PORT_443_TCP_PROTO: tcp\n",
      "LANG: C.UTF-8\n",
      "EXAMPLEVAR: some_value\n",
      "PYTHON_VERSION: 3.8.3\n",
      "KUBERNETES_SERVICE_PORT_HTTPS: 443\n",
      "KUBERNETES_PORT_443_TCP: tcp://10.96.0.1:443\n",
      "KUBERNETES_SERVICE_HOST: 10.96.0.1\n",
      "PWD: /usr/app\n",
      "PYTHON_GET_PIP_SHA256: b3153ec0cf7b7bbf9556932aa37e4981c35dc2a2c501d70d91d2795aa532be79\n",
      "##############################\n",
      "Batch Job completed successfully\n"
     ]
    }
   ],
   "source": [
    "%%bash\n",
    "kubectl logs batch-job-config-66jgh"
   ]
  },
  {
   "cell_type": "markdown",
   "metadata": {},
   "source": [
    "**-> EXAMPLEVAR: some_value**"
   ]
  },
  {
   "cell_type": "markdown",
   "metadata": {},
   "source": [
    "**Second Option**: Read config from conf.env file"
   ]
  },
  {
   "cell_type": "code",
   "execution_count": 124,
   "metadata": {},
   "outputs": [
    {
     "name": "stdout",
     "output_type": "stream",
     "text": [
      "configmap \"my-config2\" deleted\n",
      "configmap/my-config2 created\n"
     ]
    }
   ],
   "source": [
    "%%bash\n",
    "kubectl delete configmap my-config2\n",
    "kubectl create configmap my-config2 --from-env-file=conf.env"
   ]
  },
  {
   "cell_type": "code",
   "execution_count": 132,
   "metadata": {},
   "outputs": [
    {
     "name": "stdout",
     "output_type": "stream",
     "text": [
      "apiVersion: v1\n",
      "data:\n",
      "  first_var: something\n",
      "  second_var: \"30\"\n",
      "kind: ConfigMap\n",
      "metadata:\n",
      "  creationTimestamp: \"2020-07-08T14:05:34Z\"\n",
      "  name: my-config2\n",
      "  namespace: default\n",
      "  resourceVersion: \"408513\"\n",
      "  selfLink: /api/v1/namespaces/default/configmaps/my-config2\n",
      "  uid: ca1077f5-3824-4c23-b9cd-6bf1a5328d40\n"
     ]
    }
   ],
   "source": [
    "%%bash\n",
    "kubectl get configmap my-config2 -o yaml"
   ]
  },
  {
   "cell_type": "markdown",
   "metadata": {},
   "source": [
    "Provide all environment variable from ConfigMap: job_config2.yaml..."
   ]
  },
  {
   "cell_type": "code",
   "execution_count": 133,
   "metadata": {},
   "outputs": [
    {
     "name": "stdout",
     "output_type": "stream",
     "text": [
      "job.batch/batch-job-config created\n"
     ]
    }
   ],
   "source": [
    "%%bash\n",
    "kubectl apply -f job_config2.yaml"
   ]
  },
  {
   "cell_type": "code",
   "execution_count": 135,
   "metadata": {},
   "outputs": [
    {
     "name": "stdout",
     "output_type": "stream",
     "text": [
      "NAME                     READY   STATUS      RESTARTS   AGE\n",
      "batch-job-config-d258g   0/1     Completed   0          3s\n"
     ]
    }
   ],
   "source": [
    "%%bash\n",
    "kubectl get pods"
   ]
  },
  {
   "cell_type": "code",
   "execution_count": 137,
   "metadata": {},
   "outputs": [
    {
     "name": "stdout",
     "output_type": "stream",
     "text": [
      "Batch Job started\n",
      "##############################\n",
      "Env Variables:\n",
      "HOSTNAME: batch-job-config-d258g\n",
      "PYTHON_PIP_VERSION: 20.1.1\n",
      "HOME: /root\n",
      "FIRST_VAR: something\n",
      "GPG_KEY: E3FF2839C048B25C084DEBE9B26995E310250568\n",
      "PYTHON_GET_PIP_URL: https://github.com/pypa/get-pip/raw/eff16c878c7fd6b688b9b4c4267695cf1a0bf01b/get-pip.py\n",
      "PATH: /usr/local/bin:/usr/local/sbin:/usr/local/bin:/usr/sbin:/usr/bin:/sbin:/bin\n",
      "LANG: C.UTF-8\n",
      "PYTHON_VERSION: 3.8.3\n",
      "SECOND_VAR: 30\n",
      "PWD: /usr/app\n",
      "PYTHON_GET_PIP_SHA256: b3153ec0cf7b7bbf9556932aa37e4981c35dc2a2c501d70d91d2795aa532be79\n",
      "##############################\n",
      "Batch Job completed successfully\n"
     ]
    }
   ],
   "source": [
    "%%bash\n",
    "kubectl logs batch-job-config-d258g"
   ]
  },
  {
   "cell_type": "code",
   "execution_count": null,
   "metadata": {},
   "outputs": [],
   "source": []
  },
  {
   "cell_type": "code",
   "execution_count": null,
   "metadata": {},
   "outputs": [],
   "source": []
  },
  {
   "cell_type": "code",
   "execution_count": null,
   "metadata": {},
   "outputs": [],
   "source": []
  },
  {
   "cell_type": "code",
   "execution_count": null,
   "metadata": {},
   "outputs": [],
   "source": []
  },
  {
   "cell_type": "code",
   "execution_count": null,
   "metadata": {},
   "outputs": [],
   "source": []
  },
  {
   "cell_type": "code",
   "execution_count": 131,
   "metadata": {},
   "outputs": [
    {
     "name": "stdout",
     "output_type": "stream",
     "text": [
      "pod \"batch-job-config-q6m82\" deleted\n",
      "service \"kubernetes\" deleted\n",
      "job.batch \"batch-job-config\" deleted\n"
     ]
    }
   ],
   "source": [
    "%%bash\n",
    "kubectl delete all --all"
   ]
  },
  {
   "cell_type": "code",
   "execution_count": null,
   "metadata": {},
   "outputs": [],
   "source": []
  }
 ],
 "metadata": {
  "kernelspec": {
   "display_name": "Python 3",
   "language": "python",
   "name": "python3"
  },
  "language_info": {
   "codemirror_mode": {
    "name": "ipython",
    "version": 3
   },
   "file_extension": ".py",
   "mimetype": "text/x-python",
   "name": "python",
   "nbconvert_exporter": "python",
   "pygments_lexer": "ipython3",
   "version": "3.7.6"
  }
 },
 "nbformat": 4,
 "nbformat_minor": 4
}
