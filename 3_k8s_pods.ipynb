{
 "cells": [
  {
   "cell_type": "markdown",
   "metadata": {},
   "source": [
    "# Kubernetes Pods"
   ]
  },
  {
   "cell_type": "markdown",
   "metadata": {},
   "source": [
    "### 1. Describe simple pod by yaml File"
   ]
  },
  {
   "cell_type": "markdown",
   "metadata": {},
   "source": [
    "File: simple_pod.yaml"
   ]
  },
  {
   "cell_type": "markdown",
   "metadata": {},
   "source": [
    "**Create single Pod from yaml file**"
   ]
  },
  {
   "cell_type": "code",
   "execution_count": 1,
   "metadata": {},
   "outputs": [
    {
     "name": "stdout",
     "output_type": "stream",
     "text": [
      "pod/nodeapp-pod created\n"
     ]
    }
   ],
   "source": [
    "%%bash\n",
    "kubectl create -f simple_pod.yaml"
   ]
  },
  {
   "cell_type": "code",
   "execution_count": 2,
   "metadata": {},
   "outputs": [
    {
     "name": "stdout",
     "output_type": "stream",
     "text": [
      "NAME          READY   STATUS    RESTARTS   AGE\n",
      "nodeapp-pod   1/1     Running   0          15s\n"
     ]
    }
   ],
   "source": [
    "%%bash\n",
    "kubectl get pods"
   ]
  },
  {
   "cell_type": "markdown",
   "metadata": {},
   "source": [
    "**Get complete Pod definition as yaml**"
   ]
  },
  {
   "cell_type": "code",
   "execution_count": 3,
   "metadata": {},
   "outputs": [
    {
     "name": "stdout",
     "output_type": "stream",
     "text": [
      "apiVersion: v1\n",
      "kind: Pod\n",
      "metadata:\n",
      "  creationTimestamp: \"2020-07-01T13:40:42Z\"\n",
      "  name: nodeapp-pod\n",
      "  namespace: default\n",
      "  resourceVersion: \"109896\"\n",
      "  selfLink: /api/v1/namespaces/default/pods/nodeapp-pod\n",
      "  uid: f1891189-0712-4847-8d2a-84b779377d0b\n",
      "spec:\n",
      "  containers:\n",
      "  - image: ardconsulting/test:nodeapp\n",
      "    imagePullPolicy: IfNotPresent\n",
      "    name: nodeapp-container\n",
      "    ports:\n",
      "    - containerPort: 8091\n",
      "      protocol: TCP\n",
      "    resources: {}\n",
      "    terminationMessagePath: /dev/termination-log\n",
      "    terminationMessagePolicy: File\n",
      "    volumeMounts:\n",
      "    - mountPath: /var/run/secrets/kubernetes.io/serviceaccount\n",
      "      name: default-token-srt6x\n",
      "      readOnly: true\n",
      "  dnsPolicy: ClusterFirst\n",
      "  enableServiceLinks: true\n",
      "  nodeName: docker-desktop\n",
      "  priority: 0\n",
      "  restartPolicy: Always\n",
      "  schedulerName: default-scheduler\n",
      "  securityContext: {}\n",
      "  serviceAccount: default\n",
      "  serviceAccountName: default\n",
      "  terminationGracePeriodSeconds: 30\n",
      "  tolerations:\n",
      "  - effect: NoExecute\n",
      "    key: node.kubernetes.io/not-ready\n",
      "    operator: Exists\n",
      "    tolerationSeconds: 300\n",
      "  - effect: NoExecute\n",
      "    key: node.kubernetes.io/unreachable\n",
      "    operator: Exists\n",
      "    tolerationSeconds: 300\n",
      "  volumes:\n",
      "  - name: default-token-srt6x\n",
      "    secret:\n",
      "      defaultMode: 420\n",
      "      secretName: default-token-srt6x\n",
      "status:\n",
      "  conditions:\n",
      "  - lastProbeTime: null\n",
      "    lastTransitionTime: \"2020-07-01T13:40:42Z\"\n",
      "    status: \"True\"\n",
      "    type: Initialized\n",
      "  - lastProbeTime: null\n",
      "    lastTransitionTime: \"2020-07-01T13:40:45Z\"\n",
      "    status: \"True\"\n",
      "    type: Ready\n",
      "  - lastProbeTime: null\n",
      "    lastTransitionTime: \"2020-07-01T13:40:45Z\"\n",
      "    status: \"True\"\n",
      "    type: ContainersReady\n",
      "  - lastProbeTime: null\n",
      "    lastTransitionTime: \"2020-07-01T13:40:42Z\"\n",
      "    status: \"True\"\n",
      "    type: PodScheduled\n",
      "  containerStatuses:\n",
      "  - containerID: docker://8c981452ca8c9d823a156a4ec2bfb5242330585b86a58a35a28f8c69912887dc\n",
      "    image: ar/nodeapp:latest\n",
      "    imageID: docker-pullable://ardconsulting/test@sha256:3610fade9df950c134e9df5c8c20831e1124a6e986abbf4be66b7e265d2b8ae6\n",
      "    lastState: {}\n",
      "    name: nodeapp-container\n",
      "    ready: true\n",
      "    restartCount: 0\n",
      "    started: true\n",
      "    state:\n",
      "      running:\n",
      "        startedAt: \"2020-07-01T13:40:44Z\"\n",
      "  hostIP: 192.168.65.3\n",
      "  phase: Running\n",
      "  podIP: 10.1.0.13\n",
      "  podIPs:\n",
      "  - ip: 10.1.0.13\n",
      "  qosClass: BestEffort\n",
      "  startTime: \"2020-07-01T13:40:42Z\"\n"
     ]
    }
   ],
   "source": [
    "%%bash\n",
    "kubectl get pod nodeapp-pod -o yaml"
   ]
  },
  {
   "cell_type": "markdown",
   "metadata": {},
   "source": [
    "**Viewing Pods Log**"
   ]
  },
  {
   "cell_type": "code",
   "execution_count": 4,
   "metadata": {},
   "outputs": [
    {
     "name": "stdout",
     "output_type": "stream",
     "text": [
      "\n",
      "> simple-node@1.0.0 start /usr/app\n",
      "> node server.js\n",
      "\n",
      "Server started...\n"
     ]
    }
   ],
   "source": [
    "%%bash\n",
    "kubectl logs nodeapp-pod"
   ]
  },
  {
   "cell_type": "markdown",
   "metadata": {},
   "source": [
    "**Instead of Services you can use Port-Forwarding to connect to the pod**"
   ]
  },
  {
   "cell_type": "code",
   "execution_count": 6,
   "metadata": {},
   "outputs": [
    {
     "name": "stdout",
     "output_type": "stream",
     "text": [
      "Process is interrupted.\n"
     ]
    }
   ],
   "source": [
    "%%bash\n",
    "kubectl port-forward nodeapp-pod 8080:8091"
   ]
  },
  {
   "cell_type": "markdown",
   "metadata": {},
   "source": [
    "-> Now try to access in the browser by localhost:8080"
   ]
  },
  {
   "cell_type": "markdown",
   "metadata": {},
   "source": [
    "### 2. Organizing Pods with Labels"
   ]
  },
  {
   "cell_type": "markdown",
   "metadata": {},
   "source": [
    "yaml File with Labels: simple_pod2.yaml"
   ]
  },
  {
   "cell_type": "code",
   "execution_count": 10,
   "metadata": {},
   "outputs": [
    {
     "name": "stdout",
     "output_type": "stream",
     "text": [
      "pod/nodeapp-pod2 created\n"
     ]
    }
   ],
   "source": [
    "%%bash\n",
    "kubectl create -f simple_pod2.yaml"
   ]
  },
  {
   "cell_type": "code",
   "execution_count": 13,
   "metadata": {},
   "outputs": [
    {
     "name": "stdout",
     "output_type": "stream",
     "text": [
      "NAME           READY   STATUS    RESTARTS   AGE   LABELS\n",
      "nodeapp-pod    1/1     Running   0          14m   <none>\n",
      "nodeapp-pod2   1/1     Running   0          42s   app=nodetest,env=dev\n"
     ]
    }
   ],
   "source": [
    "%%bash\n",
    "kubectl get pods --show-labels"
   ]
  },
  {
   "cell_type": "markdown",
   "metadata": {},
   "source": [
    "**Change pod labels manually**"
   ]
  },
  {
   "cell_type": "code",
   "execution_count": 14,
   "metadata": {},
   "outputs": [
    {
     "name": "stdout",
     "output_type": "stream",
     "text": [
      "pod/nodeapp-pod labeled\n"
     ]
    }
   ],
   "source": [
    "%%bash\n",
    "kubectl label pod nodeapp-pod env=dev"
   ]
  },
  {
   "cell_type": "code",
   "execution_count": 15,
   "metadata": {},
   "outputs": [
    {
     "name": "stdout",
     "output_type": "stream",
     "text": [
      "NAME           READY   STATUS    RESTARTS   AGE     LABELS\n",
      "nodeapp-pod    1/1     Running   0          19m     env=dev\n",
      "nodeapp-pod2   1/1     Running   0          5m21s   app=nodetest,env=dev\n"
     ]
    }
   ],
   "source": [
    "%%bash\n",
    "kubectl get pods --show-labels"
   ]
  },
  {
   "cell_type": "markdown",
   "metadata": {},
   "source": [
    "**View all Pods with specific label**"
   ]
  },
  {
   "cell_type": "code",
   "execution_count": 16,
   "metadata": {},
   "outputs": [
    {
     "name": "stdout",
     "output_type": "stream",
     "text": [
      "NAME           READY   STATUS    RESTARTS   AGE\n",
      "nodeapp-pod2   1/1     Running   0          6m32s\n"
     ]
    }
   ],
   "source": [
    "%%bash\n",
    "kubectl get pods -l app=nodetest"
   ]
  },
  {
   "cell_type": "markdown",
   "metadata": {},
   "source": [
    "### 3. Namespaces"
   ]
  },
  {
   "cell_type": "markdown",
   "metadata": {},
   "source": [
    "**Namespaces are like ressource groups**. Ressource Names only need to be unique within a namespace. Namespaces can be used for multi-tenant apps or for seperating dev/prod envs..."
   ]
  },
  {
   "cell_type": "code",
   "execution_count": 17,
   "metadata": {},
   "outputs": [
    {
     "name": "stdout",
     "output_type": "stream",
     "text": [
      "NAME                   STATUS   AGE\n",
      "default                Active   2d\n",
      "docker                 Active   2d\n",
      "kube-node-lease        Active   2d\n",
      "kube-public            Active   2d\n",
      "kube-system            Active   2d\n",
      "kubernetes-dashboard   Active   65m\n"
     ]
    }
   ],
   "source": [
    "%%bash\n",
    "kubectl get namespaces"
   ]
  },
  {
   "cell_type": "markdown",
   "metadata": {},
   "source": [
    "By default **kubectl get** shows ressources from the **default** namespace"
   ]
  },
  {
   "cell_type": "markdown",
   "metadata": {},
   "source": [
    "See pods in other namespace:"
   ]
  },
  {
   "cell_type": "code",
   "execution_count": 18,
   "metadata": {},
   "outputs": [
    {
     "name": "stdout",
     "output_type": "stream",
     "text": [
      "NAME                                     READY   STATUS    RESTARTS   AGE\n",
      "coredns-5644d7b6d9-dwcwj                 1/1     Running   0          2d\n",
      "coredns-5644d7b6d9-v2h4r                 1/1     Running   0          2d\n",
      "etcd-docker-desktop                      1/1     Running   0          2d\n",
      "kube-apiserver-docker-desktop            1/1     Running   0          2d\n",
      "kube-controller-manager-docker-desktop   1/1     Running   0          2d\n",
      "kube-proxy-2qjfw                         1/1     Running   0          2d\n",
      "kube-scheduler-docker-desktop            1/1     Running   0          2d\n",
      "kubernetes-dashboard-7c54d59f66-7zbz8    1/1     Running   0          90m\n",
      "storage-provisioner                      1/1     Running   0          2d\n",
      "vpnkit-controller                        1/1     Running   0          2d\n"
     ]
    }
   ],
   "source": [
    "%%bash\n",
    "kubectl get pods -n kube-system"
   ]
  },
  {
   "cell_type": "markdown",
   "metadata": {},
   "source": [
    "**Create custom namespace with yaml file:** custom_ns.yaml"
   ]
  },
  {
   "cell_type": "code",
   "execution_count": 19,
   "metadata": {},
   "outputs": [
    {
     "name": "stdout",
     "output_type": "stream",
     "text": [
      "namespace/custom-namespace created\n"
     ]
    }
   ],
   "source": [
    "%%bash\n",
    "kubectl create -f custom_ns.yaml"
   ]
  },
  {
   "cell_type": "markdown",
   "metadata": {},
   "source": [
    "**Create simple Pod in custom namespace:** simple_pod_custom_ns.yaml"
   ]
  },
  {
   "cell_type": "code",
   "execution_count": 20,
   "metadata": {},
   "outputs": [
    {
     "name": "stdout",
     "output_type": "stream",
     "text": [
      "pod/nodeapp-pod created\n"
     ]
    }
   ],
   "source": [
    "%%bash\n",
    "kubectl create -f simple_pod_custom_ns.yaml"
   ]
  },
  {
   "cell_type": "code",
   "execution_count": 21,
   "metadata": {},
   "outputs": [
    {
     "name": "stdout",
     "output_type": "stream",
     "text": [
      "NAME                   STATUS   AGE\n",
      "custom-namespace       Active   2m6s\n",
      "default                Active   2d\n",
      "docker                 Active   2d\n",
      "kube-node-lease        Active   2d\n",
      "kube-public            Active   2d\n",
      "kube-system            Active   2d\n",
      "kubernetes-dashboard   Active   73m\n"
     ]
    }
   ],
   "source": [
    "%%bash\n",
    "kubectl get ns"
   ]
  },
  {
   "cell_type": "code",
   "execution_count": 24,
   "metadata": {},
   "outputs": [
    {
     "name": "stdout",
     "output_type": "stream",
     "text": [
      "NAME          READY   STATUS    RESTARTS   AGE\n",
      "nodeapp-pod   1/1     Running   0          31s\n"
     ]
    }
   ],
   "source": [
    "%%bash\n",
    "kubectl get pods -n custom-namespace"
   ]
  },
  {
   "cell_type": "markdown",
   "metadata": {},
   "source": [
    "### 4. Deleting Ressources"
   ]
  },
  {
   "cell_type": "markdown",
   "metadata": {},
   "source": [
    "**Deleting whole namespace**"
   ]
  },
  {
   "cell_type": "code",
   "execution_count": 26,
   "metadata": {},
   "outputs": [
    {
     "name": "stdout",
     "output_type": "stream",
     "text": [
      "namespace \"custom-namespace\" deleted\n"
     ]
    }
   ],
   "source": [
    "%%bash\n",
    "kubectl delete ns custom-namespace"
   ]
  },
  {
   "cell_type": "code",
   "execution_count": 27,
   "metadata": {},
   "outputs": [
    {
     "name": "stdout",
     "output_type": "stream",
     "text": [
      "NAME                   STATUS   AGE\n",
      "default                Active   2d\n",
      "docker                 Active   2d\n",
      "kube-node-lease        Active   2d\n",
      "kube-public            Active   2d\n",
      "kube-system            Active   2d\n",
      "kubernetes-dashboard   Active   75m\n"
     ]
    }
   ],
   "source": [
    "%%bash\n",
    "kubectl get ns"
   ]
  },
  {
   "cell_type": "markdown",
   "metadata": {},
   "source": [
    "**Deleting pod by label**"
   ]
  },
  {
   "cell_type": "code",
   "execution_count": 29,
   "metadata": {},
   "outputs": [
    {
     "name": "stdout",
     "output_type": "stream",
     "text": [
      "NAME           READY   STATUS    RESTARTS   AGE   LABELS\n",
      "nodeapp-pod    1/1     Running   0          36m   env=dev\n",
      "nodeapp-pod2   1/1     Running   0          22m   app=nodetest,env=dev\n"
     ]
    }
   ],
   "source": [
    "%%bash\n",
    "kubectl get pods --show-labels"
   ]
  },
  {
   "cell_type": "code",
   "execution_count": 30,
   "metadata": {},
   "outputs": [
    {
     "name": "stdout",
     "output_type": "stream",
     "text": [
      "pod \"nodeapp-pod2\" deleted\n"
     ]
    }
   ],
   "source": [
    "%%bash\n",
    "kubectl delete pod -l app=nodetest"
   ]
  },
  {
   "cell_type": "code",
   "execution_count": 31,
   "metadata": {},
   "outputs": [
    {
     "name": "stdout",
     "output_type": "stream",
     "text": [
      "NAME          READY   STATUS    RESTARTS   AGE   LABELS\n",
      "nodeapp-pod   1/1     Running   0          37m   env=dev\n"
     ]
    }
   ],
   "source": [
    "%%bash\n",
    "kubectl get pods --show-labels"
   ]
  },
  {
   "cell_type": "markdown",
   "metadata": {},
   "source": [
    "**Delete all pods in a namespace**"
   ]
  },
  {
   "cell_type": "code",
   "execution_count": 32,
   "metadata": {},
   "outputs": [
    {
     "name": "stdout",
     "output_type": "stream",
     "text": [
      "pod \"nodeapp-pod\" deleted\n"
     ]
    }
   ],
   "source": [
    "%%bash\n",
    "kubectl delete pods --all"
   ]
  },
  {
   "cell_type": "code",
   "execution_count": 33,
   "metadata": {},
   "outputs": [
    {
     "name": "stderr",
     "output_type": "stream",
     "text": [
      "No resources found in default namespace.\n"
     ]
    }
   ],
   "source": [
    "%%bash\n",
    "kubectl get pods"
   ]
  },
  {
   "cell_type": "markdown",
   "metadata": {},
   "source": [
    "**Deleting all Ressources in a Namespace**"
   ]
  },
  {
   "cell_type": "code",
   "execution_count": 34,
   "metadata": {},
   "outputs": [
    {
     "name": "stdout",
     "output_type": "stream",
     "text": [
      "service \"kubernetes\" deleted\n",
      "service \"nodeapp-http\" deleted\n"
     ]
    }
   ],
   "source": [
    "%%bash\n",
    "kubectl delete all --all"
   ]
  },
  {
   "cell_type": "markdown",
   "metadata": {},
   "source": [
    "### 5. Liveness Probes"
   ]
  },
  {
   "cell_type": "markdown",
   "metadata": {},
   "source": [
    "Kubernetes can check if a container is still alive through liveness probes. You can specify a liveness probe for each container in the pod’s specification. Kubernetes will periodically execute the probe and restart the container if the probe fails."
   ]
  },
  {
   "cell_type": "markdown",
   "metadata": {},
   "source": [
    "**Test Case** \"simple-node-error\": node app with endpoint / yielding 5 times successful response and error after that"
   ]
  },
  {
   "cell_type": "markdown",
   "metadata": {},
   "source": [
    "Create image and push to registry..."
   ]
  },
  {
   "cell_type": "code",
   "execution_count": 1,
   "metadata": {},
   "outputs": [
    {
     "name": "stdout",
     "output_type": "stream",
     "text": [
      "Authenticating with existing credentials...\n",
      "Login Succeeded\n"
     ]
    }
   ],
   "source": [
    "%%bash\n",
    "docker login"
   ]
  },
  {
   "cell_type": "code",
   "execution_count": 2,
   "metadata": {},
   "outputs": [
    {
     "name": "stdout",
     "output_type": "stream",
     "text": [
      "Sending build context to Docker daemon  22.53kB\n",
      "Step 1/6 : FROM node:alpine\n",
      " ---> 3bf5a7d41d77\n",
      "Step 2/6 : WORKDIR /usr/app\n",
      " ---> Using cache\n",
      " ---> 34cb48271eaf\n",
      "Step 3/6 : COPY ./package.json ./\n",
      " ---> Using cache\n",
      " ---> b9b742cd06ec\n",
      "Step 4/6 : RUN npm install\n",
      " ---> Using cache\n",
      " ---> 997c4cef5093\n",
      "Step 5/6 : COPY ./ ./\n",
      " ---> 162e75788c72\n",
      "Step 6/6 : CMD npm start\n",
      " ---> Running in eefeb7680f06\n",
      "Removing intermediate container eefeb7680f06\n",
      " ---> df3c298aeac0\n",
      "Successfully built df3c298aeac0\n",
      "Successfully tagged ardconsulting/test:nodeapp-error\n"
     ]
    }
   ],
   "source": [
    "%%bash\n",
    "docker build -t ardconsulting/test:nodeapp-error simple-node-error"
   ]
  },
  {
   "cell_type": "code",
   "execution_count": 4,
   "metadata": {},
   "outputs": [
    {
     "name": "stdout",
     "output_type": "stream",
     "text": [
      "The push refers to repository [docker.io/ardconsulting/test]\n",
      "e8a083f44801: Preparing\n",
      "9bb8f7bb2cf2: Preparing\n",
      "bbecd61c89a0: Preparing\n",
      "55aef14c4b0d: Preparing\n",
      "109988400934: Preparing\n",
      "0cdeb35eff67: Preparing\n",
      "312072b77e32: Preparing\n",
      "3e207b409db3: Preparing\n",
      "0cdeb35eff67: Waiting\n",
      "312072b77e32: Waiting\n",
      "3e207b409db3: Waiting\n",
      "109988400934: Layer already exists\n",
      "bbecd61c89a0: Layer already exists\n",
      "55aef14c4b0d: Layer already exists\n",
      "9bb8f7bb2cf2: Layer already exists\n",
      "0cdeb35eff67: Layer already exists\n",
      "3e207b409db3: Layer already exists\n",
      "312072b77e32: Layer already exists\n",
      "e8a083f44801: Pushed\n",
      "nodeapp-error: digest: sha256:dfb69b1b7f3ebc42f67b3437780a779b80617598b5f15389ecfd0baf22cc49cc size: 1991\n"
     ]
    }
   ],
   "source": [
    "%%bash\n",
    "docker push ardconsulting/test:nodeapp-error"
   ]
  },
  {
   "cell_type": "markdown",
   "metadata": {},
   "source": [
    "**Add Liveness probe** in simpel_pod_liveness.yaml. Set \"initialDelaySeconds\" to 15 so server has time to start until health checks are performed."
   ]
  },
  {
   "cell_type": "markdown",
   "metadata": {},
   "source": [
    "Create pod and use port forwarding..."
   ]
  },
  {
   "cell_type": "code",
   "execution_count": 16,
   "metadata": {},
   "outputs": [
    {
     "name": "stdout",
     "output_type": "stream",
     "text": [
      "pod/nodeapp-pod created\n"
     ]
    }
   ],
   "source": [
    "%%bash\n",
    "kubectl create -f simple_pod_liveness.yaml"
   ]
  },
  {
   "cell_type": "code",
   "execution_count": 17,
   "metadata": {},
   "outputs": [
    {
     "name": "stdout",
     "output_type": "stream",
     "text": [
      "Process is interrupted.\n"
     ]
    }
   ],
   "source": [
    "%%bash\n",
    "kubectl port-forward node/nodeapp-pod 8080:8091"
   ]
  },
  {
   "cell_type": "markdown",
   "metadata": {},
   "source": [
    "**Test health check**: go to browser submit request to localhost:8080 until error occurs, than wait and try again..."
   ]
  },
  {
   "cell_type": "code",
   "execution_count": 19,
   "metadata": {},
   "outputs": [
    {
     "name": "stdout",
     "output_type": "stream",
     "text": [
      "Name:         nodeapp-pod\n",
      "Namespace:    default\n",
      "Priority:     0\n",
      "Node:         docker-desktop/192.168.65.3\n",
      "Start Time:   Fri, 03 Jul 2020 14:54:18 +0200\n",
      "Labels:       <none>\n",
      "Annotations:  <none>\n",
      "Status:       Running\n",
      "IP:           10.1.0.18\n",
      "IPs:\n",
      "  IP:  10.1.0.18\n",
      "Containers:\n",
      "  nodeapp-container:\n",
      "    Container ID:   docker://82028cdb9510ea68d61ae1eec70f68e24c99b73f965534380cbb7bccd5f7795f\n",
      "    Image:          ardconsulting/test:nodeapp-error\n",
      "    Image ID:       docker-pullable://ardconsulting/test@sha256:dfb69b1b7f3ebc42f67b3437780a779b80617598b5f15389ecfd0baf22cc49cc\n",
      "    Port:           8091/TCP\n",
      "    Host Port:      0/TCP\n",
      "    State:          Running\n",
      "      Started:      Fri, 03 Jul 2020 14:55:08 +0200\n",
      "    Last State:     Terminated\n",
      "      Reason:       Completed\n",
      "      Exit Code:    0\n",
      "      Started:      Fri, 03 Jul 2020 14:54:20 +0200\n",
      "      Finished:     Fri, 03 Jul 2020 14:55:08 +0200\n",
      "    Ready:          True\n",
      "    Restart Count:  1\n",
      "    Liveness:       http-get http://:8091/ delay=15s timeout=1s period=10s #success=1 #failure=3\n",
      "    Environment:    <none>\n",
      "    Mounts:\n",
      "      /var/run/secrets/kubernetes.io/serviceaccount from default-token-srt6x (ro)\n",
      "Conditions:\n",
      "  Type              Status\n",
      "  Initialized       True \n",
      "  Ready             True \n",
      "  ContainersReady   True \n",
      "  PodScheduled      True \n",
      "Volumes:\n",
      "  default-token-srt6x:\n",
      "    Type:        Secret (a volume populated by a Secret)\n",
      "    SecretName:  default-token-srt6x\n",
      "    Optional:    false\n",
      "QoS Class:       BestEffort\n",
      "Node-Selectors:  <none>\n",
      "Tolerations:     node.kubernetes.io/not-ready:NoExecute for 300s\n",
      "                 node.kubernetes.io/unreachable:NoExecute for 300s\n",
      "Events:\n",
      "  Type     Reason     Age                From                     Message\n",
      "  ----     ------     ----               ----                     -------\n",
      "  Normal   Scheduled  78s                default-scheduler        Successfully assigned default/nodeapp-pod to docker-desktop\n",
      "  Warning  Unhealthy  29s (x3 over 49s)  kubelet, docker-desktop  Liveness probe failed: HTTP probe failed with statuscode: 400\n",
      "  Normal   Killing    29s                kubelet, docker-desktop  Container nodeapp-container failed liveness probe, will be restarted\n",
      "  Normal   Pulled     28s (x2 over 76s)  kubelet, docker-desktop  Container image \"ardconsulting/test:nodeapp-error\" already present on machine\n",
      "  Normal   Created    28s (x2 over 76s)  kubelet, docker-desktop  Created container nodeapp-container\n",
      "  Normal   Started    28s (x2 over 76s)  kubelet, docker-desktop  Started container nodeapp-container\n"
     ]
    }
   ],
   "source": [
    "%%bash\n",
    "kubectl describe pod nodeapp-pod"
   ]
  },
  {
   "cell_type": "code",
   "execution_count": null,
   "metadata": {},
   "outputs": [],
   "source": [
    "%%bash\n",
    "kubectl delete all --all"
   ]
  },
  {
   "cell_type": "markdown",
   "metadata": {},
   "source": [
    "### 6. How to write yaml Files?"
   ]
  },
  {
   "cell_type": "markdown",
   "metadata": {},
   "source": [
    "Explore specs by **kubectl explain**"
   ]
  },
  {
   "cell_type": "code",
   "execution_count": 35,
   "metadata": {},
   "outputs": [
    {
     "name": "stdout",
     "output_type": "stream",
     "text": [
      "KIND:     Pod\n",
      "VERSION:  v1\n",
      "\n",
      "DESCRIPTION:\n",
      "     Pod is a collection of containers that can run on a host. This resource is\n",
      "     created by clients and scheduled onto hosts.\n",
      "\n",
      "FIELDS:\n",
      "   apiVersion\t<string>\n",
      "     APIVersion defines the versioned schema of this representation of an\n",
      "     object. Servers should convert recognized schemas to the latest internal\n",
      "     value, and may reject unrecognized values. More info:\n",
      "     https://git.k8s.io/community/contributors/devel/sig-architecture/api-conventions.md#resources\n",
      "\n",
      "   kind\t<string>\n",
      "     Kind is a string value representing the REST resource this object\n",
      "     represents. Servers may infer this from the endpoint the client submits\n",
      "     requests to. Cannot be updated. In CamelCase. More info:\n",
      "     https://git.k8s.io/community/contributors/devel/sig-architecture/api-conventions.md#types-kinds\n",
      "\n",
      "   metadata\t<Object>\n",
      "     Standard object's metadata. More info:\n",
      "     https://git.k8s.io/community/contributors/devel/sig-architecture/api-conventions.md#metadata\n",
      "\n",
      "   spec\t<Object>\n",
      "     Specification of the desired behavior of the pod. More info:\n",
      "     https://git.k8s.io/community/contributors/devel/sig-architecture/api-conventions.md#spec-and-status\n",
      "\n",
      "   status\t<Object>\n",
      "     Most recently observed status of the pod. This data may not be up to date.\n",
      "     Populated by the system. Read-only. More info:\n",
      "     https://git.k8s.io/community/contributors/devel/sig-architecture/api-conventions.md#spec-and-status\n",
      "\n"
     ]
    }
   ],
   "source": [
    "%%bash\n",
    "kubectl explain pod"
   ]
  },
  {
   "cell_type": "code",
   "execution_count": 36,
   "metadata": {},
   "outputs": [
    {
     "name": "stdout",
     "output_type": "stream",
     "text": [
      "KIND:     Pod\n",
      "VERSION:  v1\n",
      "\n",
      "RESOURCE: metadata <Object>\n",
      "\n",
      "DESCRIPTION:\n",
      "     Standard object's metadata. More info:\n",
      "     https://git.k8s.io/community/contributors/devel/sig-architecture/api-conventions.md#metadata\n",
      "\n",
      "     ObjectMeta is metadata that all persisted resources must have, which\n",
      "     includes all objects users must create.\n",
      "\n",
      "FIELDS:\n",
      "   annotations\t<map[string]string>\n",
      "     Annotations is an unstructured key value map stored with a resource that\n",
      "     may be set by external tools to store and retrieve arbitrary metadata. They\n",
      "     are not queryable and should be preserved when modifying objects. More\n",
      "     info: http://kubernetes.io/docs/user-guide/annotations\n",
      "\n",
      "   clusterName\t<string>\n",
      "     The name of the cluster which the object belongs to. This is used to\n",
      "     distinguish resources with same name and namespace in different clusters.\n",
      "     This field is not set anywhere right now and apiserver is going to ignore\n",
      "     it if set in create or update request.\n",
      "\n",
      "   creationTimestamp\t<string>\n",
      "     CreationTimestamp is a timestamp representing the server time when this\n",
      "     object was created. It is not guaranteed to be set in happens-before order\n",
      "     across separate operations. Clients may not set this value. It is\n",
      "     represented in RFC3339 form and is in UTC. Populated by the system.\n",
      "     Read-only. Null for lists. More info:\n",
      "     https://git.k8s.io/community/contributors/devel/sig-architecture/api-conventions.md#metadata\n",
      "\n",
      "   deletionGracePeriodSeconds\t<integer>\n",
      "     Number of seconds allowed for this object to gracefully terminate before it\n",
      "     will be removed from the system. Only set when deletionTimestamp is also\n",
      "     set. May only be shortened. Read-only.\n",
      "\n",
      "   deletionTimestamp\t<string>\n",
      "     DeletionTimestamp is RFC 3339 date and time at which this resource will be\n",
      "     deleted. This field is set by the server when a graceful deletion is\n",
      "     requested by the user, and is not directly settable by a client. The\n",
      "     resource is expected to be deleted (no longer visible from resource lists,\n",
      "     and not reachable by name) after the time in this field, once the\n",
      "     finalizers list is empty. As long as the finalizers list contains items,\n",
      "     deletion is blocked. Once the deletionTimestamp is set, this value may not\n",
      "     be unset or be set further into the future, although it may be shortened or\n",
      "     the resource may be deleted prior to this time. For example, a user may\n",
      "     request that a pod is deleted in 30 seconds. The Kubelet will react by\n",
      "     sending a graceful termination signal to the containers in the pod. After\n",
      "     that 30 seconds, the Kubelet will send a hard termination signal (SIGKILL)\n",
      "     to the container and after cleanup, remove the pod from the API. In the\n",
      "     presence of network partitions, this object may still exist after this\n",
      "     timestamp, until an administrator or automated process can determine the\n",
      "     resource is fully terminated. If not set, graceful deletion of the object\n",
      "     has not been requested. Populated by the system when a graceful deletion is\n",
      "     requested. Read-only. More info:\n",
      "     https://git.k8s.io/community/contributors/devel/sig-architecture/api-conventions.md#metadata\n",
      "\n",
      "   finalizers\t<[]string>\n",
      "     Must be empty before the object is deleted from the registry. Each entry is\n",
      "     an identifier for the responsible component that will remove the entry from\n",
      "     the list. If the deletionTimestamp of the object is non-nil, entries in\n",
      "     this list can only be removed.\n",
      "\n",
      "   generateName\t<string>\n",
      "     GenerateName is an optional prefix, used by the server, to generate a\n",
      "     unique name ONLY IF the Name field has not been provided. If this field is\n",
      "     used, the name returned to the client will be different than the name\n",
      "     passed. This value will also be combined with a unique suffix. The provided\n",
      "     value has the same validation rules as the Name field, and may be truncated\n",
      "     by the length of the suffix required to make the value unique on the\n",
      "     server. If this field is specified and the generated name exists, the\n",
      "     server will NOT return a 409 - instead, it will either return 201 Created\n",
      "     or 500 with Reason ServerTimeout indicating a unique name could not be\n",
      "     found in the time allotted, and the client should retry (optionally after\n",
      "     the time indicated in the Retry-After header). Applied only if Name is not\n",
      "     specified. More info:\n",
      "     https://git.k8s.io/community/contributors/devel/sig-architecture/api-conventions.md#idempotency\n",
      "\n",
      "   generation\t<integer>\n",
      "     A sequence number representing a specific generation of the desired state.\n",
      "     Populated by the system. Read-only.\n",
      "\n",
      "   labels\t<map[string]string>\n",
      "     Map of string keys and values that can be used to organize and categorize\n",
      "     (scope and select) objects. May match selectors of replication controllers\n",
      "     and services. More info: http://kubernetes.io/docs/user-guide/labels\n",
      "\n",
      "   managedFields\t<[]Object>\n",
      "     ManagedFields maps workflow-id and version to the set of fields that are\n",
      "     managed by that workflow. This is mostly for internal housekeeping, and\n",
      "     users typically shouldn't need to set or understand this field. A workflow\n",
      "     can be the user's name, a controller's name, or the name of a specific\n",
      "     apply path like \"ci-cd\". The set of fields is always in the version that\n",
      "     the workflow used when modifying the object.\n",
      "\n",
      "   name\t<string>\n",
      "     Name must be unique within a namespace. Is required when creating\n",
      "     resources, although some resources may allow a client to request the\n",
      "     generation of an appropriate name automatically. Name is primarily intended\n",
      "     for creation idempotence and configuration definition. Cannot be updated.\n",
      "     More info: http://kubernetes.io/docs/user-guide/identifiers#names\n",
      "\n",
      "   namespace\t<string>\n",
      "     Namespace defines the space within each name must be unique. An empty\n",
      "     namespace is equivalent to the \"default\" namespace, but \"default\" is the\n",
      "     canonical representation. Not all objects are required to be scoped to a\n",
      "     namespace - the value of this field for those objects will be empty. Must\n",
      "     be a DNS_LABEL. Cannot be updated. More info:\n",
      "     http://kubernetes.io/docs/user-guide/namespaces\n",
      "\n",
      "   ownerReferences\t<[]Object>\n",
      "     List of objects depended by this object. If ALL objects in the list have\n",
      "     been deleted, this object will be garbage collected. If this object is\n",
      "     managed by a controller, then an entry in this list will point to this\n",
      "     controller, with the controller field set to true. There cannot be more\n",
      "     than one managing controller.\n",
      "\n",
      "   resourceVersion\t<string>\n",
      "     An opaque value that represents the internal version of this object that\n",
      "     can be used by clients to determine when objects have changed. May be used\n",
      "     for optimistic concurrency, change detection, and the watch operation on a\n",
      "     resource or set of resources. Clients must treat these values as opaque and\n",
      "     passed unmodified back to the server. They may only be valid for a\n",
      "     particular resource or set of resources. Populated by the system.\n",
      "     Read-only. Value must be treated as opaque by clients and . More info:\n",
      "     https://git.k8s.io/community/contributors/devel/sig-architecture/api-conventions.md#concurrency-control-and-consistency\n",
      "\n",
      "   selfLink\t<string>\n",
      "     SelfLink is a URL representing this object. Populated by the system.\n",
      "     Read-only. DEPRECATED Kubernetes will stop propagating this field in 1.20\n",
      "     release and the field is planned to be removed in 1.21 release.\n",
      "\n",
      "   uid\t<string>\n",
      "     UID is the unique in time and space value for this object. It is typically\n",
      "     generated by the server on successful creation of a resource and is not\n",
      "     allowed to change on PUT operations. Populated by the system. Read-only.\n",
      "     More info: http://kubernetes.io/docs/user-guide/identifiers#uids\n",
      "\n"
     ]
    }
   ],
   "source": [
    "%%bash\n",
    "kubectl explain pod.metadata"
   ]
  },
  {
   "cell_type": "code",
   "execution_count": 38,
   "metadata": {},
   "outputs": [
    {
     "name": "stdout",
     "output_type": "stream",
     "text": [
      "KIND:     Pod\n",
      "VERSION:  v1\n",
      "\n",
      "RESOURCE: spec <Object>\n",
      "\n",
      "DESCRIPTION:\n",
      "     Specification of the desired behavior of the pod. More info:\n",
      "     https://git.k8s.io/community/contributors/devel/sig-architecture/api-conventions.md#spec-and-status\n",
      "\n",
      "     PodSpec is a description of a pod.\n",
      "\n",
      "FIELDS:\n",
      "   activeDeadlineSeconds\t<integer>\n",
      "     Optional duration in seconds the pod may be active on the node relative to\n",
      "     StartTime before the system will actively try to mark it failed and kill\n",
      "     associated containers. Value must be a positive integer.\n",
      "\n",
      "   affinity\t<Object>\n",
      "     If specified, the pod's scheduling constraints\n",
      "\n",
      "   automountServiceAccountToken\t<boolean>\n",
      "     AutomountServiceAccountToken indicates whether a service account token\n",
      "     should be automatically mounted.\n",
      "\n",
      "   containers\t<[]Object> -required-\n",
      "     List of containers belonging to the pod. Containers cannot currently be\n",
      "     added or removed. There must be at least one container in a Pod. Cannot be\n",
      "     updated.\n",
      "\n",
      "   dnsConfig\t<Object>\n",
      "     Specifies the DNS parameters of a pod. Parameters specified here will be\n",
      "     merged to the generated DNS configuration based on DNSPolicy.\n",
      "\n",
      "   dnsPolicy\t<string>\n",
      "     Set DNS policy for the pod. Defaults to \"ClusterFirst\". Valid values are\n",
      "     'ClusterFirstWithHostNet', 'ClusterFirst', 'Default' or 'None'. DNS\n",
      "     parameters given in DNSConfig will be merged with the policy selected with\n",
      "     DNSPolicy. To have DNS options set along with hostNetwork, you have to\n",
      "     specify DNS policy explicitly to 'ClusterFirstWithHostNet'.\n",
      "\n",
      "   enableServiceLinks\t<boolean>\n",
      "     EnableServiceLinks indicates whether information about services should be\n",
      "     injected into pod's environment variables, matching the syntax of Docker\n",
      "     links. Optional: Defaults to true.\n",
      "\n",
      "   ephemeralContainers\t<[]Object>\n",
      "     List of ephemeral containers run in this pod. Ephemeral containers may be\n",
      "     run in an existing pod to perform user-initiated actions such as debugging.\n",
      "     This list cannot be specified when creating a pod, and it cannot be\n",
      "     modified by updating the pod spec. In order to add an ephemeral container\n",
      "     to an existing pod, use the pod's ephemeralcontainers subresource. This\n",
      "     field is alpha-level and is only honored by servers that enable the\n",
      "     EphemeralContainers feature.\n",
      "\n",
      "   hostAliases\t<[]Object>\n",
      "     HostAliases is an optional list of hosts and IPs that will be injected into\n",
      "     the pod's hosts file if specified. This is only valid for non-hostNetwork\n",
      "     pods.\n",
      "\n",
      "   hostIPC\t<boolean>\n",
      "     Use the host's ipc namespace. Optional: Default to false.\n",
      "\n",
      "   hostNetwork\t<boolean>\n",
      "     Host networking requested for this pod. Use the host's network namespace.\n",
      "     If this option is set, the ports that will be used must be specified.\n",
      "     Default to false.\n",
      "\n",
      "   hostPID\t<boolean>\n",
      "     Use the host's pid namespace. Optional: Default to false.\n",
      "\n",
      "   hostname\t<string>\n",
      "     Specifies the hostname of the Pod If not specified, the pod's hostname will\n",
      "     be set to a system-defined value.\n",
      "\n",
      "   imagePullSecrets\t<[]Object>\n",
      "     ImagePullSecrets is an optional list of references to secrets in the same\n",
      "     namespace to use for pulling any of the images used by this PodSpec. If\n",
      "     specified, these secrets will be passed to individual puller\n",
      "     implementations for them to use. For example, in the case of docker, only\n",
      "     DockerConfig type secrets are honored. More info:\n",
      "     https://kubernetes.io/docs/concepts/containers/images#specifying-imagepullsecrets-on-a-pod\n",
      "\n",
      "   initContainers\t<[]Object>\n",
      "     List of initialization containers belonging to the pod. Init containers are\n",
      "     executed in order prior to containers being started. If any init container\n",
      "     fails, the pod is considered to have failed and is handled according to its\n",
      "     restartPolicy. The name for an init container or normal container must be\n",
      "     unique among all containers. Init containers may not have Lifecycle\n",
      "     actions, Readiness probes, Liveness probes, or Startup probes. The\n",
      "     resourceRequirements of an init container are taken into account during\n",
      "     scheduling by finding the highest request/limit for each resource type, and\n",
      "     then using the max of of that value or the sum of the normal containers.\n",
      "     Limits are applied to init containers in a similar fashion. Init containers\n",
      "     cannot currently be added or removed. Cannot be updated. More info:\n",
      "     https://kubernetes.io/docs/concepts/workloads/pods/init-containers/\n",
      "\n",
      "   nodeName\t<string>\n",
      "     NodeName is a request to schedule this pod onto a specific node. If it is\n",
      "     non-empty, the scheduler simply schedules this pod onto that node, assuming\n",
      "     that it fits resource requirements.\n",
      "\n",
      "   nodeSelector\t<map[string]string>\n",
      "     NodeSelector is a selector which must be true for the pod to fit on a node.\n",
      "     Selector which must match a node's labels for the pod to be scheduled on\n",
      "     that node. More info:\n",
      "     https://kubernetes.io/docs/concepts/configuration/assign-pod-node/\n",
      "\n",
      "   overhead\t<map[string]string>\n",
      "     Overhead represents the resource overhead associated with running a pod for\n",
      "     a given RuntimeClass. This field will be autopopulated at admission time by\n",
      "     the RuntimeClass admission controller. If the RuntimeClass admission\n",
      "     controller is enabled, overhead must not be set in Pod create requests. The\n",
      "     RuntimeClass admission controller will reject Pod create requests which\n",
      "     have the overhead already set. If RuntimeClass is configured and selected\n",
      "     in the PodSpec, Overhead will be set to the value defined in the\n",
      "     corresponding RuntimeClass, otherwise it will remain unset and treated as\n",
      "     zero. More info:\n",
      "     https://git.k8s.io/enhancements/keps/sig-node/20190226-pod-overhead.md This\n",
      "     field is alpha-level as of Kubernetes v1.16, and is only honored by servers\n",
      "     that enable the PodOverhead feature.\n",
      "\n",
      "   preemptionPolicy\t<string>\n",
      "     PreemptionPolicy is the Policy for preempting pods with lower priority. One\n",
      "     of Never, PreemptLowerPriority. Defaults to PreemptLowerPriority if unset.\n",
      "     This field is alpha-level and is only honored by servers that enable the\n",
      "     NonPreemptingPriority feature.\n",
      "\n",
      "   priority\t<integer>\n",
      "     The priority value. Various system components use this field to find the\n",
      "     priority of the pod. When Priority Admission Controller is enabled, it\n",
      "     prevents users from setting this field. The admission controller populates\n",
      "     this field from PriorityClassName. The higher the value, the higher the\n",
      "     priority.\n",
      "\n",
      "   priorityClassName\t<string>\n",
      "     If specified, indicates the pod's priority. \"system-node-critical\" and\n",
      "     \"system-cluster-critical\" are two special keywords which indicate the\n",
      "     highest priorities with the former being the highest priority. Any other\n",
      "     name must be defined by creating a PriorityClass object with that name. If\n",
      "     not specified, the pod priority will be default or zero if there is no\n",
      "     default.\n",
      "\n",
      "   readinessGates\t<[]Object>\n",
      "     If specified, all readiness gates will be evaluated for pod readiness. A\n",
      "     pod is ready when all its containers are ready AND all conditions specified\n",
      "     in the readiness gates have status equal to \"True\" More info:\n",
      "     https://git.k8s.io/enhancements/keps/sig-network/0007-pod-ready%2B%2B.md\n",
      "\n",
      "   restartPolicy\t<string>\n",
      "     Restart policy for all containers within the pod. One of Always, OnFailure,\n",
      "     Never. Default to Always. More info:\n",
      "     https://kubernetes.io/docs/concepts/workloads/pods/pod-lifecycle/#restart-policy\n",
      "\n",
      "   runtimeClassName\t<string>\n",
      "     RuntimeClassName refers to a RuntimeClass object in the node.k8s.io group,\n",
      "     which should be used to run this pod. If no RuntimeClass resource matches\n",
      "     the named class, the pod will not be run. If unset or empty, the \"legacy\"\n",
      "     RuntimeClass will be used, which is an implicit class with an empty\n",
      "     definition that uses the default runtime handler. More info:\n",
      "     https://git.k8s.io/enhancements/keps/sig-node/runtime-class.md This is a\n",
      "     beta feature as of Kubernetes v1.14.\n",
      "\n",
      "   schedulerName\t<string>\n",
      "     If specified, the pod will be dispatched by specified scheduler. If not\n",
      "     specified, the pod will be dispatched by default scheduler.\n",
      "\n",
      "   securityContext\t<Object>\n",
      "     SecurityContext holds pod-level security attributes and common container\n",
      "     settings. Optional: Defaults to empty. See type description for default\n",
      "     values of each field.\n",
      "\n",
      "   serviceAccount\t<string>\n",
      "     DeprecatedServiceAccount is a depreciated alias for ServiceAccountName.\n",
      "     Deprecated: Use serviceAccountName instead.\n",
      "\n",
      "   serviceAccountName\t<string>\n",
      "     ServiceAccountName is the name of the ServiceAccount to use to run this\n",
      "     pod. More info:\n",
      "     https://kubernetes.io/docs/tasks/configure-pod-container/configure-service-account/\n",
      "\n",
      "   shareProcessNamespace\t<boolean>\n",
      "     Share a single process namespace between all of the containers in a pod.\n",
      "     When this is set containers will be able to view and signal processes from\n",
      "     other containers in the same pod, and the first process in each container\n",
      "     will not be assigned PID 1. HostPID and ShareProcessNamespace cannot both\n",
      "     be set. Optional: Default to false. This field is beta-level and may be\n",
      "     disabled with the PodShareProcessNamespace feature.\n",
      "\n",
      "   subdomain\t<string>\n",
      "     If specified, the fully qualified Pod hostname will be\n",
      "     \"<hostname>.<subdomain>.<pod namespace>.svc.<cluster domain>\". If not\n",
      "     specified, the pod will not have a domainname at all.\n",
      "\n",
      "   terminationGracePeriodSeconds\t<integer>\n",
      "     Optional duration in seconds the pod needs to terminate gracefully. May be\n",
      "     decreased in delete request. Value must be non-negative integer. The value\n",
      "     zero indicates delete immediately. If this value is nil, the default grace\n",
      "     period will be used instead. The grace period is the duration in seconds\n",
      "     after the processes running in the pod are sent a termination signal and\n",
      "     the time when the processes are forcibly halted with a kill signal. Set\n",
      "     this value longer than the expected cleanup time for your process. Defaults\n",
      "     to 30 seconds.\n",
      "\n",
      "   tolerations\t<[]Object>\n",
      "     If specified, the pod's tolerations.\n",
      "\n",
      "   topologySpreadConstraints\t<[]Object>\n",
      "     TopologySpreadConstraints describes how a group of pods ought to spread\n",
      "     across topology domains. Scheduler will schedule pods in a way which abides\n",
      "     by the constraints. This field is alpha-level and is only honored by\n",
      "     clusters that enables the EvenPodsSpread feature. All\n",
      "     topologySpreadConstraints are ANDed.\n",
      "\n",
      "   volumes\t<[]Object>\n",
      "     List of volumes that can be mounted by containers belonging to the pod.\n",
      "     More info: https://kubernetes.io/docs/concepts/storage/volumes\n",
      "\n"
     ]
    }
   ],
   "source": [
    "%%bash\n",
    "kubectl explain pod.spec"
   ]
  },
  {
   "cell_type": "code",
   "execution_count": 40,
   "metadata": {},
   "outputs": [
    {
     "name": "stdout",
     "output_type": "stream",
     "text": [
      "KIND:     Pod\n",
      "VERSION:  v1\n",
      "\n",
      "RESOURCE: ports <[]Object>\n",
      "\n",
      "DESCRIPTION:\n",
      "     List of ports to expose from the container. Exposing a port here gives the\n",
      "     system additional information about the network connections a container\n",
      "     uses, but is primarily informational. Not specifying a port here DOES NOT\n",
      "     prevent that port from being exposed. Any port which is listening on the\n",
      "     default \"0.0.0.0\" address inside a container will be accessible from the\n",
      "     network. Cannot be updated.\n",
      "\n",
      "     ContainerPort represents a network port in a single container.\n",
      "\n",
      "FIELDS:\n",
      "   containerPort\t<integer> -required-\n",
      "     Number of port to expose on the pod's IP address. This must be a valid port\n",
      "     number, 0 < x < 65536.\n",
      "\n",
      "   hostIP\t<string>\n",
      "     What host IP to bind the external port to.\n",
      "\n",
      "   hostPort\t<integer>\n",
      "     Number of port to expose on the host. If specified, this must be a valid\n",
      "     port number, 0 < x < 65536. If HostNetwork is specified, this must match\n",
      "     ContainerPort. Most containers do not need this.\n",
      "\n",
      "   name\t<string>\n",
      "     If specified, this must be an IANA_SVC_NAME and unique within the pod. Each\n",
      "     named port in a pod must have a unique name. Name for the port that can be\n",
      "     referred to by services.\n",
      "\n",
      "   protocol\t<string>\n",
      "     Protocol for port. Must be UDP, TCP, or SCTP. Defaults to \"TCP\".\n",
      "\n"
     ]
    }
   ],
   "source": [
    "%%bash\n",
    "kubectl explain pod.spec.containers.ports"
   ]
  },
  {
   "cell_type": "code",
   "execution_count": null,
   "metadata": {},
   "outputs": [],
   "source": []
  }
 ],
 "metadata": {
  "kernelspec": {
   "display_name": "Python 3",
   "language": "python",
   "name": "python3"
  },
  "language_info": {
   "codemirror_mode": {
    "name": "ipython",
    "version": 3
   },
   "file_extension": ".py",
   "mimetype": "text/x-python",
   "name": "python",
   "nbconvert_exporter": "python",
   "pygments_lexer": "ipython3",
   "version": "3.7.6"
  }
 },
 "nbformat": 4,
 "nbformat_minor": 4
}
