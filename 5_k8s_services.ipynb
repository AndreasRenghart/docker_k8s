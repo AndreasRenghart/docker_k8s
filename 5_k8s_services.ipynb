{
 "cells": [
  {
   "cell_type": "markdown",
   "metadata": {},
   "source": [
    "# Kubernetes Services"
   ]
  },
  {
   "cell_type": "markdown",
   "metadata": {},
   "source": [
    "A Kubernetes Service is a resource you create to make a single, constant point of entry to a group of pods providing the same service. Each service has an IP address and port that never change while the service exists. Clients can open connections to that IP and port, and those connections are then routed to one of the pods backing that service."
   ]
  },
  {
   "cell_type": "markdown",
   "metadata": {},
   "source": [
    "### 1. Use a Service to make Pods accessable from within the cluster"
   ]
  },
  {
   "cell_type": "markdown",
   "metadata": {},
   "source": [
    "**Example**: Spin up 2 replicas of simple node with ReplicaSet (file: rs_node.yaml)"
   ]
  },
  {
   "cell_type": "code",
   "execution_count": 40,
   "metadata": {},
   "outputs": [
    {
     "name": "stdout",
     "output_type": "stream",
     "text": [
      "replicaset.apps/nodeapp-rs created\n"
     ]
    }
   ],
   "source": [
    "%%bash\n",
    "kubectl apply -f rs_node.yaml"
   ]
  },
  {
   "cell_type": "markdown",
   "metadata": {},
   "source": [
    "Note that pods controlled by the ReplicaSet are labeled with: app=nodeapp"
   ]
  },
  {
   "cell_type": "code",
   "execution_count": 43,
   "metadata": {},
   "outputs": [
    {
     "name": "stdout",
     "output_type": "stream",
     "text": [
      "NAME               READY   STATUS    RESTARTS   AGE   LABELS\n",
      "nodeapp-rs-fsdlw   1/1     Running   0          6s    app=nodeapp\n",
      "nodeapp-rs-lbjq4   1/1     Running   0          6s    app=nodeapp\n"
     ]
    }
   ],
   "source": [
    "%%bash\n",
    "kubectl get pods --show-labels"
   ]
  },
  {
   "cell_type": "markdown",
   "metadata": {},
   "source": [
    "**Create service**: Map port 80 to 8091 of all pods with label: app=nodeapp (specified in svc_node.yaml)"
   ]
  },
  {
   "cell_type": "code",
   "execution_count": 44,
   "metadata": {},
   "outputs": [
    {
     "name": "stdout",
     "output_type": "stream",
     "text": [
      "service/node-service created\n"
     ]
    }
   ],
   "source": [
    "%%bash\n",
    "kubectl apply -f svc_node.yaml"
   ]
  },
  {
   "cell_type": "code",
   "execution_count": 45,
   "metadata": {},
   "outputs": [
    {
     "name": "stdout",
     "output_type": "stream",
     "text": [
      "NAME           TYPE        CLUSTER-IP       EXTERNAL-IP   PORT(S)   AGE\n",
      "kubernetes     ClusterIP   10.96.0.1        <none>        443/TCP   18s\n",
      "node-service   ClusterIP   10.106.105.163   <none>        80/TCP    1s\n"
     ]
    }
   ],
   "source": [
    "%%bash\n",
    "kubectl get services"
   ]
  },
  {
   "cell_type": "markdown",
   "metadata": {},
   "source": [
    "**Now you can connect to the service from other pods within the kubernetes cluster by the stable Cluster IP**"
   ]
  },
  {
   "cell_type": "markdown",
   "metadata": {},
   "source": [
    "**How the service is discovered in other pods?**\n",
    "- Either by automatically generated env variables\n",
    "- Or by DNS (preferred)"
   ]
  },
  {
   "cell_type": "markdown",
   "metadata": {},
   "source": [
    "**This is demonstrated by the job \"batch-job-access-service\"**"
   ]
  },
  {
   "cell_type": "markdown",
   "metadata": {},
   "source": [
    "Create and upload the image and start the job..."
   ]
  },
  {
   "cell_type": "code",
   "execution_count": 30,
   "metadata": {},
   "outputs": [
    {
     "name": "stdout",
     "output_type": "stream",
     "text": [
      "Sending build context to Docker daemon  3.584kB\n",
      "Step 1/5 : FROM python:3\n",
      " ---> 7f5b6ccd03e9\n",
      "Step 2/5 : RUN pip install requests\n",
      " ---> Using cache\n",
      " ---> ee0941a9f06c\n",
      "Step 3/5 : WORKDIR /usr/app\n",
      " ---> Using cache\n",
      " ---> ce19f15bb6af\n",
      "Step 4/5 : COPY ./ ./\n",
      " ---> 0a8b245e8a61\n",
      "Step 5/5 : CMD python main.py\n",
      " ---> Running in ac99a8f983f8\n",
      "Removing intermediate container ac99a8f983f8\n",
      " ---> 182caf6b4559\n",
      "Successfully built 182caf6b4559\n",
      "Successfully tagged ardconsulting/test:py-batch-access-service\n"
     ]
    }
   ],
   "source": [
    "%%bash\n",
    "docker build -t ardconsulting/test:py-batch-access-service batch-job-access-service"
   ]
  },
  {
   "cell_type": "code",
   "execution_count": 32,
   "metadata": {},
   "outputs": [
    {
     "name": "stdout",
     "output_type": "stream",
     "text": [
      "The push refers to repository [docker.io/ardconsulting/test]\n",
      "56849504e859: Preparing\n",
      "55cc563f1ba5: Preparing\n",
      "241cc8c6acb3: Preparing\n",
      "ccbefb30278f: Preparing\n",
      "7a8a38bf5538: Preparing\n",
      "0d77d4546954: Preparing\n",
      "98d95bdfa037: Preparing\n",
      "da9418a2e1b1: Preparing\n",
      "2e5b4ca91984: Preparing\n",
      "527ade4639e0: Preparing\n",
      "c2c789d2d3c5: Preparing\n",
      "8803ef42039d: Preparing\n",
      "0d77d4546954: Waiting\n",
      "98d95bdfa037: Waiting\n",
      "da9418a2e1b1: Waiting\n",
      "2e5b4ca91984: Waiting\n",
      "527ade4639e0: Waiting\n",
      "c2c789d2d3c5: Waiting\n",
      "8803ef42039d: Waiting\n",
      "55cc563f1ba5: Layer already exists\n",
      "7a8a38bf5538: Layer already exists\n",
      "241cc8c6acb3: Layer already exists\n",
      "56849504e859: Layer already exists\n",
      "ccbefb30278f: Layer already exists\n",
      "0d77d4546954: Layer already exists\n",
      "98d95bdfa037: Layer already exists\n",
      "da9418a2e1b1: Layer already exists\n",
      "2e5b4ca91984: Layer already exists\n",
      "527ade4639e0: Layer already exists\n",
      "c2c789d2d3c5: Layer already exists\n",
      "8803ef42039d: Layer already exists\n",
      "py-batch-access-service: digest: sha256:ea25b9467f9c5fcd657c58febe52756bbb705679481766e8df1c816c53aaf7fe size: 2842\n"
     ]
    }
   ],
   "source": [
    "%%bash\n",
    "docker push ardconsulting/test:py-batch-access-service"
   ]
  },
  {
   "cell_type": "code",
   "execution_count": 33,
   "metadata": {},
   "outputs": [
    {
     "name": "stdout",
     "output_type": "stream",
     "text": [
      "job.batch/batch-job-access-service created\n"
     ]
    }
   ],
   "source": [
    "%%bash\n",
    "kubectl apply -f job_access_service.yaml"
   ]
  },
  {
   "cell_type": "markdown",
   "metadata": {},
   "source": [
    "**View Job Logs**"
   ]
  },
  {
   "cell_type": "code",
   "execution_count": 34,
   "metadata": {},
   "outputs": [
    {
     "name": "stdout",
     "output_type": "stream",
     "text": [
      "NAME                             READY   STATUS    RESTARTS   AGE\n",
      "batch-job-access-service-g6zzt   1/1     Running   0          4s\n",
      "nodeapp-rs-6t2n5                 1/1     Running   0          27s\n",
      "nodeapp-rs-6vs9f                 1/1     Running   0          27s\n"
     ]
    }
   ],
   "source": [
    "%%bash\n",
    "kubectl get pods"
   ]
  },
  {
   "cell_type": "code",
   "execution_count": 36,
   "metadata": {},
   "outputs": [
    {
     "name": "stdout",
     "output_type": "stream",
     "text": [
      "Batch Job started\n",
      "##############################\n",
      "Env Variables:\n",
      "KUBERNETES_PORT: tcp://10.96.0.1:443\n",
      "KUBERNETES_SERVICE_PORT: 443\n",
      "HOSTNAME: batch-job-access-service-g6zzt\n",
      "NODE_SERVICE_SERVICE_HOST: 10.108.113.242\n",
      "PYTHON_PIP_VERSION: 20.1.1\n",
      "HOME: /root\n",
      "GPG_KEY: E3FF2839C048B25C084DEBE9B26995E310250568\n",
      "NODE_SERVICE_SERVICE_PORT: 80\n",
      "NODE_SERVICE_PORT: tcp://10.108.113.242:80\n",
      "PYTHON_GET_PIP_URL: https://github.com/pypa/get-pip/raw/eff16c878c7fd6b688b9b4c4267695cf1a0bf01b/get-pip.py\n",
      "NODE_SERVICE_PORT_80_TCP_ADDR: 10.108.113.242\n",
      "KUBERNETES_PORT_443_TCP_ADDR: 10.96.0.1\n",
      "PATH: /usr/local/bin:/usr/local/sbin:/usr/local/bin:/usr/sbin:/usr/bin:/sbin:/bin\n",
      "NODE_SERVICE_PORT_80_TCP_PORT: 80\n",
      "NODE_SERVICE_PORT_80_TCP_PROTO: tcp\n",
      "KUBERNETES_PORT_443_TCP_PORT: 443\n",
      "KUBERNETES_PORT_443_TCP_PROTO: tcp\n",
      "LANG: C.UTF-8\n",
      "PYTHON_VERSION: 3.8.3\n",
      "NODE_SERVICE_PORT_80_TCP: tcp://10.108.113.242:80\n",
      "KUBERNETES_PORT_443_TCP: tcp://10.96.0.1:443\n",
      "KUBERNETES_SERVICE_PORT_HTTPS: 443\n",
      "KUBERNETES_SERVICE_HOST: 10.96.0.1\n",
      "PWD: /usr/app\n",
      "PYTHON_GET_PIP_SHA256: b3153ec0cf7b7bbf9556932aa37e4981c35dc2a2c501d70d91d2795aa532be79\n",
      "##############################\n",
      "Access kubnetes service by DNS\n",
      "Status: 200\n",
      "Response: Welcome from host: nodeapp-rs-6vs9f\n",
      "Batch Job completed successfully\n"
     ]
    }
   ],
   "source": [
    "%%bash \n",
    "kubectl logs batch-job-access-service-g6zzt"
   ]
  },
  {
   "cell_type": "markdown",
   "metadata": {},
   "source": [
    "### 2. Use a Service to make Pods accessable from outside"
   ]
  },
  {
   "cell_type": "markdown",
   "metadata": {},
   "source": [
    "**Service of Type LoadBalancer**: svc_node_external.yaml"
   ]
  },
  {
   "cell_type": "code",
   "execution_count": 6,
   "metadata": {},
   "outputs": [
    {
     "name": "stdout",
     "output_type": "stream",
     "text": [
      "service/node-service-external created\n"
     ]
    }
   ],
   "source": [
    "%%bash\n",
    "kubectl apply -f svc_node_external.yaml"
   ]
  },
  {
   "cell_type": "code",
   "execution_count": 12,
   "metadata": {},
   "outputs": [
    {
     "name": "stdout",
     "output_type": "stream",
     "text": [
      "NAME                    TYPE           CLUSTER-IP      EXTERNAL-IP   PORT(S)        AGE\n",
      "kubernetes              ClusterIP      10.96.0.1       <none>        443/TCP        53s\n",
      "node-service            ClusterIP      10.96.90.142    <none>        80/TCP         27s\n",
      "node-service-external   LoadBalancer   10.109.175.97   <pending>     80:30390/TCP   15s\n"
     ]
    }
   ],
   "source": [
    "%%bash\n",
    "kubectl get services"
   ]
  },
  {
   "cell_type": "markdown",
   "metadata": {},
   "source": [
    "**Access from outside the cluster by external IP**. Test it..."
   ]
  },
  {
   "cell_type": "code",
   "execution_count": 143,
   "metadata": {},
   "outputs": [
    {
     "name": "stdout",
     "output_type": "stream",
     "text": [
      "<html>\n",
      "<head><title>404 Not Found</title></head>\n",
      "<body>\n",
      "<center><h1>404 Not Found</h1></center>\n",
      "<hr><center>nginx/1.19.0</center>\n",
      "</body>\n",
      "</html>\n"
     ]
    },
    {
     "name": "stderr",
     "output_type": "stream",
     "text": [
      "  % Total    % Received % Xferd  Average Speed   Time    Time     Time  Current\n",
      "                                 Dload  Upload   Total   Spent    Left  Speed\n",
      "100   153  100   153    0     0   2390      0 --:--:-- --:--:-- --:--:--  2390\n"
     ]
    }
   ],
   "source": [
    "%%bash\n",
    "curl localhost:80"
   ]
  },
  {
   "cell_type": "markdown",
   "metadata": {},
   "source": [
    "### 3. Access many services from outside through the same IP by Ingress"
   ]
  },
  {
   "cell_type": "markdown",
   "metadata": {},
   "source": [
    "Whereas a LoadBalancer requires its own public IP address for every service, an Ingress only requires one IP, even when providing access to dozens of services. When a client sends an HTTP request to the Ingress, the host and path in the request determine which service the request is forwarded to."
   ]
  },
  {
   "cell_type": "markdown",
   "metadata": {},
   "source": [
    "Deploy Docker Desktop Ingress support..."
   ]
  },
  {
   "cell_type": "code",
   "execution_count": 87,
   "metadata": {},
   "outputs": [
    {
     "name": "stdout",
     "output_type": "stream",
     "text": [
      "namespace/ingress-nginx created\n",
      "serviceaccount/ingress-nginx created\n",
      "configmap/ingress-nginx-controller created\n",
      "clusterrole.rbac.authorization.k8s.io/ingress-nginx created\n",
      "clusterrolebinding.rbac.authorization.k8s.io/ingress-nginx created\n",
      "role.rbac.authorization.k8s.io/ingress-nginx created\n",
      "rolebinding.rbac.authorization.k8s.io/ingress-nginx created\n",
      "service/ingress-nginx-controller-admission created\n",
      "service/ingress-nginx-controller created\n",
      "deployment.apps/ingress-nginx-controller created\n",
      "validatingwebhookconfiguration.admissionregistration.k8s.io/ingress-nginx-admission created\n",
      "clusterrole.rbac.authorization.k8s.io/ingress-nginx-admission created\n",
      "clusterrolebinding.rbac.authorization.k8s.io/ingress-nginx-admission created\n",
      "job.batch/ingress-nginx-admission-create created\n",
      "job.batch/ingress-nginx-admission-patch created\n",
      "role.rbac.authorization.k8s.io/ingress-nginx-admission created\n",
      "rolebinding.rbac.authorization.k8s.io/ingress-nginx-admission created\n",
      "serviceaccount/ingress-nginx-admission created\n"
     ]
    }
   ],
   "source": [
    "%%bash\n",
    "kubectl apply -f https://raw.githubusercontent.com/kubernetes/ingress-nginx/master/deploy/static/provider/cloud/deploy.yaml"
   ]
  },
  {
   "cell_type": "markdown",
   "metadata": {},
   "source": [
    "**Ingress Example**: ingress_node.yaml"
   ]
  },
  {
   "cell_type": "code",
   "execution_count": 55,
   "metadata": {},
   "outputs": [
    {
     "name": "stdout",
     "output_type": "stream",
     "text": [
      "ingress.networking.k8s.io/node-ingress configured\n"
     ]
    }
   ],
   "source": [
    "%%bash\n",
    "kubectl apply -f ingress_node.yaml"
   ]
  },
  {
   "cell_type": "markdown",
   "metadata": {},
   "source": [
    "This ingress forwards requests at localhost to the service \"node-service\". Make sure the service is running..."
   ]
  },
  {
   "cell_type": "code",
   "execution_count": 54,
   "metadata": {},
   "outputs": [
    {
     "name": "stdout",
     "output_type": "stream",
     "text": [
      "NAME           TYPE        CLUSTER-IP       EXTERNAL-IP   PORT(S)   AGE\n",
      "kubernetes     ClusterIP   10.96.0.1        <none>        443/TCP   3m5s\n",
      "node-service   ClusterIP   10.106.105.163   <none>        80/TCP    2m48s\n"
     ]
    }
   ],
   "source": [
    "%%bash\n",
    "kubectl get services"
   ]
  },
  {
   "cell_type": "code",
   "execution_count": 48,
   "metadata": {},
   "outputs": [
    {
     "name": "stdout",
     "output_type": "stream",
     "text": [
      "NAME           HOSTS       ADDRESS     PORTS   AGE\n",
      "node-ingress   localhost   localhost   80      31m\n"
     ]
    }
   ],
   "source": [
    "%%bash\n",
    "kubectl get ingresses"
   ]
  },
  {
   "cell_type": "code",
   "execution_count": 56,
   "metadata": {},
   "outputs": [
    {
     "name": "stdout",
     "output_type": "stream",
     "text": [
      "Name:             node-ingress\n",
      "Namespace:        default\n",
      "Address:          localhost\n",
      "Default backend:  default-http-backend:80 (<none>)\n",
      "Rules:\n",
      "  Host       Path  Backends\n",
      "  ----       ----  --------\n",
      "  localhost  \n",
      "             /   node-service:80 (10.1.0.59:8091,10.1.0.60:8091)\n",
      "Annotations:\n",
      "  kubectl.kubernetes.io/last-applied-configuration:  {\"apiVersion\":\"networking.k8s.io/v1beta1\",\"kind\":\"Ingress\",\"metadata\":{\"annotations\":{},\"name\":\"node-ingress\",\"namespace\":\"default\"},\"spec\":{\"rules\":[{\"host\":\"localhost\",\"http\":{\"paths\":[{\"backend\":{\"serviceName\":\"node-service\",\"servicePort\":80},\"path\":\"/\"}]}}]}}\n",
      "\n",
      "Events:\n",
      "  Type    Reason  Age               From                      Message\n",
      "  ----    ------  ----              ----                      -------\n",
      "  Normal  CREATE  16m               nginx-ingress-controller  Ingress default/node-ingress\n",
      "  Normal  UPDATE  3s (x8 over 16m)  nginx-ingress-controller  Ingress default/node-ingress\n"
     ]
    }
   ],
   "source": [
    "%%bash\n",
    "kubectl describe ingress node-ingress"
   ]
  },
  {
   "cell_type": "code",
   "execution_count": 57,
   "metadata": {},
   "outputs": [
    {
     "name": "stdout",
     "output_type": "stream",
     "text": [
      "Welcome from host: nodeapp-rs-fsdlw"
     ]
    },
    {
     "name": "stderr",
     "output_type": "stream",
     "text": [
      "  % Total    % Received % Xferd  Average Speed   Time    Time     Time  Current\n",
      "                                 Dload  Upload   Total   Spent    Left  Speed\n",
      "100    35  100    35    0     0    673      0 --:--:-- --:--:-- --:--:--   673\n"
     ]
    }
   ],
   "source": [
    "%%bash\n",
    "curl localhost"
   ]
  },
  {
   "cell_type": "code",
   "execution_count": null,
   "metadata": {},
   "outputs": [],
   "source": []
  },
  {
   "cell_type": "code",
   "execution_count": 58,
   "metadata": {},
   "outputs": [
    {
     "name": "stdout",
     "output_type": "stream",
     "text": [
      "pod \"nodeapp-rs-fsdlw\" deleted\n",
      "pod \"nodeapp-rs-lbjq4\" deleted\n",
      "service \"kubernetes\" deleted\n",
      "service \"node-service\" deleted\n",
      "replicaset.apps \"nodeapp-rs\" deleted\n"
     ]
    }
   ],
   "source": [
    "%%bash\n",
    "kubectl delete all --all"
   ]
  },
  {
   "cell_type": "code",
   "execution_count": null,
   "metadata": {},
   "outputs": [],
   "source": []
  }
 ],
 "metadata": {
  "kernelspec": {
   "display_name": "Python 3",
   "language": "python",
   "name": "python3"
  },
  "language_info": {
   "codemirror_mode": {
    "name": "ipython",
    "version": 3
   },
   "file_extension": ".py",
   "mimetype": "text/x-python",
   "name": "python",
   "nbconvert_exporter": "python",
   "pygments_lexer": "ipython3",
   "version": "3.7.6"
  }
 },
 "nbformat": 4,
 "nbformat_minor": 4
}
